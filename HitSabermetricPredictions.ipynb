{
  "cells": [
    {
      "cell_type": "markdown",
      "source": [
        "**Sabermetrics currently contained in this program:**\n",
        "1.   *xBABIP*: predicted Batting Average on Balls in Play\n",
        "2.   *xBA*: predicted Batting Average\n",
        "3.   *xOBP*: predicted On-Base Percentage\n",
        "4. *xSLG*: predicted Slugging Percentage\n",
        "5. *xISO*: predicted ISO Power\n",
        "6. *xwOBA*: predicted weight OBA\n",
        "7. *xOPS*: predicted On-Base + Slugging\n",
        "8. *xwRC*: predicted weighted Runs Created\n",
        "9. *PA/K*: Plate Appearances per Strikeout\n",
        "10. *PA/BB*: Plate Appearances per Walk\n",
        "\n",
        "**Dataframes (datasets) in this program & what they are used for:**\n",
        "\n",
        "*Used to calculate Sabermetrics purely from preseason:*\n",
        "*   *predf*: contains USC preseason data from Fall 2022 + Winter 2023\n",
        "*   *preseasonxBABIP*: USC preseason data *(preseasondf)*, but drops the rows that contain null or Nan values in key columns (Batter, KorBB(BB/K), ExitSpeed, Angle, HitTraj)\n",
        "*   *preseasondf*: USC preseason data *(preseasondf)*, but only contains the columns needed for the Machine Learning Model & doesn't contain null or Nan values in those volumns; based off of *preseasonxBABIP*\n",
        "_____________________________________________________________________________________________________________________________________\n",
        "*Used to calculate Sabermetrics using last yr & this yr data for bigger sample size:*\n",
        "\n",
        "\n",
        "*   *df*: contains whole NCAA game data from 2022 and 2023\n",
        "*   *xBABIP*: whole NCAA game data *(df)*, but drops the rows that contain null or Nan values in key columns  (ExitSpeed, Angle, HitTraj)\n",
        "*   *fulldf*: whole NCAA game data *(df)*, but only contains the columns needed for the Machine Learning Model & doesn't contain null or Nan values in those volumns; based off of *xBABIP*\n",
        "\n"
      ],
      "metadata": {
        "id": "vCqPDZV0LeBQ"
      }
    },
    {
      "cell_type": "code",
      "source": [
        "# Initialize all the variables & lists\n",
        "\n",
        "# General variables & lists:\n",
        "name_list = [] # creates list of names that contains all the names in preseason 2022 data set\n",
        "unique_name_list = [] # Creates a list of unique player names. Used to track location\n",
        "last_list = [] # creates list of names that contains all the names for Full 2022 + Full 2023 data set\n",
        "KorBBname_list = [] # name list to track walks\n",
        "preKorBBname_list = []\n",
        "\n",
        "\n",
        "# Preseason Dataset:\n",
        "\n",
        "# BABIP variables & lists:\n",
        "preBIPcounter = 0 # initialize counter to see how many times a ball hit in play for preseason; will be used to find BABIP\n",
        "preprobSum = 0.0 # initalize float to sum the probabilities of a player's BIP for preseason\n",
        "prexBABIP_list = [] # creates a list of predicted BABIP that correspond with each player for preseason\n",
        "presumBABIP = [] # creates a list to hold the sum of xBA for each ball in play for preseason\n",
        "prenum_BIP = [] # creates a list that counts how many balls in play there is for every player for preseason\n",
        "\n",
        "# Batting Average variables & lists:\n",
        "prexBA_list = [] # list to hold Batting Average\n",
        "prexOBP_list = [] # list to hold OBP\n",
        "xBA = 0.0 # calculates xBA\n",
        "\n",
        "# OBP variables & lists:\n",
        "preKorBB_list = [] # creates list that counts how many walks a player gets in preseason\n",
        "preHBP_list = [] # creates list that counts how many walks a player gets in preseason\n",
        "preKorBBname_list = [] # creates list of names that store the number of walks each player gets\n",
        "preBBcounter = 0 # counter for walks (BB)\n",
        "preHBPcounter = 0 # counter for Hit by Pitches\n",
        "prenum_BB = [] # creates list to hold num of walks\n",
        "prenum_HBP = [] # creates list to hold num of HBP\n",
        "preKcounter = 0 # counter for strikeouts\n",
        "prenum_K = [] # creates list to hold num of strikeouts\n",
        "predOBP = 0 # calcualtes predicted OBP\n",
        "\n",
        "\n",
        "# Full 2022 + 2023 Game Dataset:\n",
        "\n",
        "# AB/PA variables & lists:\n",
        "KorBB_list = [] # creates list that counts how many walk a players get in season data\n",
        "HBP_list = [] # creates list that counts how many HBP a players get in season data\n",
        "BBcounter = 0 # counts number of walks\n",
        "HBPcounter = 0 # counts number of HBP\n",
        "num_BB = [] # creates list to hold num of walks\n",
        "num_HBP = [] # creates list to hold num of HBP\n",
        "num_PA = [] # counts number of PAs\n",
        "num_AB = [] # counts number of ABs\n",
        "\n",
        "\n",
        "# Batting average & OBP variables & lists:\n",
        "Kcounter = 0 # counts number of strikeouts\n",
        "num_K = [] # creates list to hold num of strikeouts\n",
        "predBA = 0.0 # calculates expected batting average\n",
        "predOBP = 0.0 # calcualted expected OBP\n",
        "xBA_list = [] # list to hold expected batting average for each player\n",
        "xOBP_list = [] # list to hold expected OBP for each player\n",
        "\n",
        "# BABIP variables & lists:\n",
        "probSum = 0.0 # initalize float to sum the probabilities of a player's BIP for full season data\n",
        "BIPcounter = 0 # counts how many BIP a player has in full season data\n",
        "num_BIP = [] # creates a list that counts how many balls in play there is for every player for game data\n",
        "predBABIP = 0.0 # calculates the predicted BABIP by dividing prob of hit by total BIPcounter\n",
        "xBABIP_list = [] # stores xBABIP for each player\n",
        "sumBABIP = [] # stores the sum of expected hit probability for each BIP\n"
      ],
      "metadata": {
        "id": "kYtPCN8-5fSC"
      },
      "execution_count": null,
      "outputs": []
    },
    {
      "cell_type": "code",
      "source": [
        "# Variables & Lists to be used:\n",
        "\n",
        "# Total Bases/Slugging Variables & Lists:\n",
        "pretotalBases = 0.0 # sums number of total bases for preseason\n",
        "totalBases = 0.0 # sums number of total bases\n",
        "pretotalBases_list = [] # holds number of total bases for preseason data set\n",
        "totalBases_list = [] # holds number of total bases for full game data set\n",
        "xSLG = 0 # to be used when calculating expected slugging\n",
        "xwOBA = 0 # to be used when calculating expected wOBA\n",
        "xRC = 0 # to be used when calculating expected Runs Created\n",
        "xSLG_list = [] # holds expected Slugging\n",
        "xwOBA_list = [] # holds expected wOBA\n",
        "xRC_list = [] # holds expected RC\n",
        "\n",
        "# Single Variables & Lists: multiply at end by .9368\n",
        "prenum_singles = 0 # count number of singles in preseason data set\n",
        "num_singles = 0 # counts total number of singles in full game data set\n",
        "pre_singles_list = [] # list to hold number of singles in pregame data set\n",
        "singles_list = []\n",
        "\n",
        "\n",
        "# Double Variables # Lists: multiply at end by .835\n",
        "prenum_doubles = 0 # count number of doubles in preseason data set\n",
        "num_doubles = 0 # counts total number of doubles in full game data set\n",
        "pre_doubles_list = [] # list to hold number of singles in pregame data set\n",
        "doubles_list = []\n",
        "\n",
        "\n",
        "# Triple Variables & Lists: multiply at end by .8667\n",
        "prenum_triples = 0 # count number of triples in preseason data set\n",
        "num_triples = 0 # counts total number of triples in full game data set\n",
        "pre_triples_list = [] # list to hold number of singles in pregame data set\n",
        "triples_list = []\n",
        "\n",
        "\n",
        "# Home Run Variables & Lists: multiply at end by .92857\n",
        "prenum_HR = 0 # count number of HR in preseason data set\n",
        "num_HR = 0 # counts total number of HR in full game data set\n",
        "pre_HR_list = []\n",
        "HR_list = []"
      ],
      "metadata": {
        "id": "MX9L9-fLQ1jx"
      },
      "execution_count": null,
      "outputs": []
    },
    {
      "cell_type": "code",
      "execution_count": null,
      "metadata": {
        "id": "KCE-PdY4pgGJ",
        "colab": {
          "base_uri": "https://localhost:8080/"
        },
        "outputId": "7874215d-06bf-4a6b-b0d6-23a39415ce50"
      },
      "outputs": [
        {
          "output_type": "stream",
          "name": "stdout",
          "text": [
            "Drive already mounted at /content/drive; to attempt to forcibly remount, call drive.mount(\"/content/drive\", force_remount=True).\n"
          ]
        }
      ],
      "source": [
        "from google.colab import drive\n",
        "drive.mount('/content/drive')"
      ]
    },
    {
      "cell_type": "code",
      "execution_count": null,
      "metadata": {
        "id": "A9JXNUZ6pcmL"
      },
      "outputs": [],
      "source": [
        "import pandas as pd\n",
        "import glob\n",
        "import os\n",
        "\n",
        "joined_files = os.listdir(\"/content/drive/Shareddrives/USC Baseball/v3\")\n",
        "joined_list = [\"/content/drive/Shareddrives/USC Baseball/v3/\" + x for x in joined_files]"
      ]
    },
    {
      "cell_type": "code",
      "execution_count": null,
      "metadata": {
        "id": "FjZZbo0BdYzv",
        "colab": {
          "base_uri": "https://localhost:8080/",
          "height": 389
        },
        "outputId": "e9c22882-1d66-4ed2-f2e5-72857c7864b7"
      },
      "outputs": [
        {
          "output_type": "error",
          "ename": "KeyboardInterrupt",
          "evalue": "ignored",
          "traceback": [
            "\u001b[0;31m---------------------------------------------------------------------------\u001b[0m",
            "\u001b[0;31mKeyboardInterrupt\u001b[0m                         Traceback (most recent call last)",
            "\u001b[0;32m<ipython-input-12-0baf9da7f014>\u001b[0m in \u001b[0;36m<module>\u001b[0;34m\u001b[0m\n\u001b[1;32m      2\u001b[0m \u001b[0;32mimport\u001b[0m \u001b[0mpandas\u001b[0m \u001b[0;32mas\u001b[0m \u001b[0mpd\u001b[0m\u001b[0;34m\u001b[0m\u001b[0;34m\u001b[0m\u001b[0m\n\u001b[1;32m      3\u001b[0m \u001b[0;34m\u001b[0m\u001b[0m\n\u001b[0;32m----> 4\u001b[0;31m \u001b[0mdf\u001b[0m \u001b[0;34m=\u001b[0m \u001b[0mpd\u001b[0m\u001b[0;34m.\u001b[0m\u001b[0mconcat\u001b[0m\u001b[0;34m(\u001b[0m\u001b[0mmap\u001b[0m\u001b[0;34m(\u001b[0m\u001b[0mpd\u001b[0m\u001b[0;34m.\u001b[0m\u001b[0mread_csv\u001b[0m\u001b[0;34m,\u001b[0m \u001b[0mjoined_list\u001b[0m\u001b[0;34m[\u001b[0m\u001b[0;34m:\u001b[0m\u001b[0;34m]\u001b[0m\u001b[0;34m)\u001b[0m\u001b[0;34m)\u001b[0m\u001b[0;34m\u001b[0m\u001b[0;34m\u001b[0m\u001b[0m\n\u001b[0m\u001b[1;32m      5\u001b[0m \u001b[0;31m# df.query(\"HomeTeam == 'SOU_TRO' | AwayTeam == 'SOU_TRO'\", inplace=True)\u001b[0m\u001b[0;34m\u001b[0m\u001b[0;34m\u001b[0m\u001b[0m\n\u001b[1;32m      6\u001b[0m \u001b[0;31m#csv = df.to_csv(\"/content/drive/Shareddrives/USC Baseball/Scouting Report Data/sc*.csv\", index=False)\u001b[0m\u001b[0;34m\u001b[0m\u001b[0;34m\u001b[0m\u001b[0m\n",
            "\u001b[0;32m/usr/local/lib/python3.9/dist-packages/pandas/util/_decorators.py\u001b[0m in \u001b[0;36mwrapper\u001b[0;34m(*args, **kwargs)\u001b[0m\n\u001b[1;32m    309\u001b[0m                     \u001b[0mstacklevel\u001b[0m\u001b[0;34m=\u001b[0m\u001b[0mstacklevel\u001b[0m\u001b[0;34m,\u001b[0m\u001b[0;34m\u001b[0m\u001b[0;34m\u001b[0m\u001b[0m\n\u001b[1;32m    310\u001b[0m                 )\n\u001b[0;32m--> 311\u001b[0;31m             \u001b[0;32mreturn\u001b[0m \u001b[0mfunc\u001b[0m\u001b[0;34m(\u001b[0m\u001b[0;34m*\u001b[0m\u001b[0margs\u001b[0m\u001b[0;34m,\u001b[0m \u001b[0;34m**\u001b[0m\u001b[0mkwargs\u001b[0m\u001b[0;34m)\u001b[0m\u001b[0;34m\u001b[0m\u001b[0;34m\u001b[0m\u001b[0m\n\u001b[0m\u001b[1;32m    312\u001b[0m \u001b[0;34m\u001b[0m\u001b[0m\n\u001b[1;32m    313\u001b[0m         \u001b[0;32mreturn\u001b[0m \u001b[0mwrapper\u001b[0m\u001b[0;34m\u001b[0m\u001b[0;34m\u001b[0m\u001b[0m\n",
            "\u001b[0;32m/usr/local/lib/python3.9/dist-packages/pandas/core/reshape/concat.py\u001b[0m in \u001b[0;36mconcat\u001b[0;34m(objs, axis, join, ignore_index, keys, levels, names, verify_integrity, sort, copy)\u001b[0m\n\u001b[1;32m    345\u001b[0m     \u001b[0mValueError\u001b[0m\u001b[0;34m:\u001b[0m \u001b[0mIndexes\u001b[0m \u001b[0mhave\u001b[0m \u001b[0moverlapping\u001b[0m \u001b[0mvalues\u001b[0m\u001b[0;34m:\u001b[0m \u001b[0;34m[\u001b[0m\u001b[0;34m'a'\u001b[0m\u001b[0;34m]\u001b[0m\u001b[0;34m\u001b[0m\u001b[0;34m\u001b[0m\u001b[0m\n\u001b[1;32m    346\u001b[0m     \"\"\"\n\u001b[0;32m--> 347\u001b[0;31m     op = _Concatenator(\n\u001b[0m\u001b[1;32m    348\u001b[0m         \u001b[0mobjs\u001b[0m\u001b[0;34m,\u001b[0m\u001b[0;34m\u001b[0m\u001b[0;34m\u001b[0m\u001b[0m\n\u001b[1;32m    349\u001b[0m         \u001b[0maxis\u001b[0m\u001b[0;34m=\u001b[0m\u001b[0maxis\u001b[0m\u001b[0;34m,\u001b[0m\u001b[0;34m\u001b[0m\u001b[0;34m\u001b[0m\u001b[0m\n",
            "\u001b[0;32m/usr/local/lib/python3.9/dist-packages/pandas/core/reshape/concat.py\u001b[0m in \u001b[0;36m__init__\u001b[0;34m(self, objs, axis, join, keys, levels, names, ignore_index, verify_integrity, copy, sort)\u001b[0m\n\u001b[1;32m    399\u001b[0m             \u001b[0mobjs\u001b[0m \u001b[0;34m=\u001b[0m \u001b[0;34m[\u001b[0m\u001b[0mobjs\u001b[0m\u001b[0;34m[\u001b[0m\u001b[0mk\u001b[0m\u001b[0;34m]\u001b[0m \u001b[0;32mfor\u001b[0m \u001b[0mk\u001b[0m \u001b[0;32min\u001b[0m \u001b[0mkeys\u001b[0m\u001b[0;34m]\u001b[0m\u001b[0;34m\u001b[0m\u001b[0;34m\u001b[0m\u001b[0m\n\u001b[1;32m    400\u001b[0m         \u001b[0;32melse\u001b[0m\u001b[0;34m:\u001b[0m\u001b[0;34m\u001b[0m\u001b[0;34m\u001b[0m\u001b[0m\n\u001b[0;32m--> 401\u001b[0;31m             \u001b[0mobjs\u001b[0m \u001b[0;34m=\u001b[0m \u001b[0mlist\u001b[0m\u001b[0;34m(\u001b[0m\u001b[0mobjs\u001b[0m\u001b[0;34m)\u001b[0m\u001b[0;34m\u001b[0m\u001b[0;34m\u001b[0m\u001b[0m\n\u001b[0m\u001b[1;32m    402\u001b[0m \u001b[0;34m\u001b[0m\u001b[0m\n\u001b[1;32m    403\u001b[0m         \u001b[0;32mif\u001b[0m \u001b[0mlen\u001b[0m\u001b[0;34m(\u001b[0m\u001b[0mobjs\u001b[0m\u001b[0;34m)\u001b[0m \u001b[0;34m==\u001b[0m \u001b[0;36m0\u001b[0m\u001b[0;34m:\u001b[0m\u001b[0;34m\u001b[0m\u001b[0;34m\u001b[0m\u001b[0m\n",
            "\u001b[0;32m/usr/local/lib/python3.9/dist-packages/pandas/util/_decorators.py\u001b[0m in \u001b[0;36mwrapper\u001b[0;34m(*args, **kwargs)\u001b[0m\n\u001b[1;32m    309\u001b[0m                     \u001b[0mstacklevel\u001b[0m\u001b[0;34m=\u001b[0m\u001b[0mstacklevel\u001b[0m\u001b[0;34m,\u001b[0m\u001b[0;34m\u001b[0m\u001b[0;34m\u001b[0m\u001b[0m\n\u001b[1;32m    310\u001b[0m                 )\n\u001b[0;32m--> 311\u001b[0;31m             \u001b[0;32mreturn\u001b[0m \u001b[0mfunc\u001b[0m\u001b[0;34m(\u001b[0m\u001b[0;34m*\u001b[0m\u001b[0margs\u001b[0m\u001b[0;34m,\u001b[0m \u001b[0;34m**\u001b[0m\u001b[0mkwargs\u001b[0m\u001b[0;34m)\u001b[0m\u001b[0;34m\u001b[0m\u001b[0;34m\u001b[0m\u001b[0m\n\u001b[0m\u001b[1;32m    312\u001b[0m \u001b[0;34m\u001b[0m\u001b[0m\n\u001b[1;32m    313\u001b[0m         \u001b[0;32mreturn\u001b[0m \u001b[0mwrapper\u001b[0m\u001b[0;34m\u001b[0m\u001b[0;34m\u001b[0m\u001b[0m\n",
            "\u001b[0;32m/usr/local/lib/python3.9/dist-packages/pandas/io/parsers/readers.py\u001b[0m in \u001b[0;36mread_csv\u001b[0;34m(filepath_or_buffer, sep, delimiter, header, names, index_col, usecols, squeeze, prefix, mangle_dupe_cols, dtype, engine, converters, true_values, false_values, skipinitialspace, skiprows, skipfooter, nrows, na_values, keep_default_na, na_filter, verbose, skip_blank_lines, parse_dates, infer_datetime_format, keep_date_col, date_parser, dayfirst, cache_dates, iterator, chunksize, compression, thousands, decimal, lineterminator, quotechar, quoting, doublequote, escapechar, comment, encoding, encoding_errors, dialect, error_bad_lines, warn_bad_lines, on_bad_lines, delim_whitespace, low_memory, memory_map, float_precision, storage_options)\u001b[0m\n\u001b[1;32m    676\u001b[0m     \u001b[0mkwds\u001b[0m\u001b[0;34m.\u001b[0m\u001b[0mupdate\u001b[0m\u001b[0;34m(\u001b[0m\u001b[0mkwds_defaults\u001b[0m\u001b[0;34m)\u001b[0m\u001b[0;34m\u001b[0m\u001b[0;34m\u001b[0m\u001b[0m\n\u001b[1;32m    677\u001b[0m \u001b[0;34m\u001b[0m\u001b[0m\n\u001b[0;32m--> 678\u001b[0;31m     \u001b[0;32mreturn\u001b[0m \u001b[0m_read\u001b[0m\u001b[0;34m(\u001b[0m\u001b[0mfilepath_or_buffer\u001b[0m\u001b[0;34m,\u001b[0m \u001b[0mkwds\u001b[0m\u001b[0;34m)\u001b[0m\u001b[0;34m\u001b[0m\u001b[0;34m\u001b[0m\u001b[0m\n\u001b[0m\u001b[1;32m    679\u001b[0m \u001b[0;34m\u001b[0m\u001b[0m\n\u001b[1;32m    680\u001b[0m \u001b[0;34m\u001b[0m\u001b[0m\n",
            "\u001b[0;32m/usr/local/lib/python3.9/dist-packages/pandas/io/parsers/readers.py\u001b[0m in \u001b[0;36m_read\u001b[0;34m(filepath_or_buffer, kwds)\u001b[0m\n\u001b[1;32m    573\u001b[0m \u001b[0;34m\u001b[0m\u001b[0m\n\u001b[1;32m    574\u001b[0m     \u001b[0;31m# Create the parser.\u001b[0m\u001b[0;34m\u001b[0m\u001b[0;34m\u001b[0m\u001b[0m\n\u001b[0;32m--> 575\u001b[0;31m     \u001b[0mparser\u001b[0m \u001b[0;34m=\u001b[0m \u001b[0mTextFileReader\u001b[0m\u001b[0;34m(\u001b[0m\u001b[0mfilepath_or_buffer\u001b[0m\u001b[0;34m,\u001b[0m \u001b[0;34m**\u001b[0m\u001b[0mkwds\u001b[0m\u001b[0;34m)\u001b[0m\u001b[0;34m\u001b[0m\u001b[0;34m\u001b[0m\u001b[0m\n\u001b[0m\u001b[1;32m    576\u001b[0m \u001b[0;34m\u001b[0m\u001b[0m\n\u001b[1;32m    577\u001b[0m     \u001b[0;32mif\u001b[0m \u001b[0mchunksize\u001b[0m \u001b[0;32mor\u001b[0m \u001b[0miterator\u001b[0m\u001b[0;34m:\u001b[0m\u001b[0;34m\u001b[0m\u001b[0;34m\u001b[0m\u001b[0m\n",
            "\u001b[0;32m/usr/local/lib/python3.9/dist-packages/pandas/io/parsers/readers.py\u001b[0m in \u001b[0;36m__init__\u001b[0;34m(self, f, engine, **kwds)\u001b[0m\n\u001b[1;32m    930\u001b[0m \u001b[0;34m\u001b[0m\u001b[0m\n\u001b[1;32m    931\u001b[0m         \u001b[0mself\u001b[0m\u001b[0;34m.\u001b[0m\u001b[0mhandles\u001b[0m\u001b[0;34m:\u001b[0m \u001b[0mIOHandles\u001b[0m \u001b[0;34m|\u001b[0m \u001b[0;32mNone\u001b[0m \u001b[0;34m=\u001b[0m \u001b[0;32mNone\u001b[0m\u001b[0;34m\u001b[0m\u001b[0;34m\u001b[0m\u001b[0m\n\u001b[0;32m--> 932\u001b[0;31m         \u001b[0mself\u001b[0m\u001b[0;34m.\u001b[0m\u001b[0m_engine\u001b[0m \u001b[0;34m=\u001b[0m \u001b[0mself\u001b[0m\u001b[0;34m.\u001b[0m\u001b[0m_make_engine\u001b[0m\u001b[0;34m(\u001b[0m\u001b[0mf\u001b[0m\u001b[0;34m,\u001b[0m \u001b[0mself\u001b[0m\u001b[0;34m.\u001b[0m\u001b[0mengine\u001b[0m\u001b[0;34m)\u001b[0m\u001b[0;34m\u001b[0m\u001b[0;34m\u001b[0m\u001b[0m\n\u001b[0m\u001b[1;32m    933\u001b[0m \u001b[0;34m\u001b[0m\u001b[0m\n\u001b[1;32m    934\u001b[0m     \u001b[0;32mdef\u001b[0m \u001b[0mclose\u001b[0m\u001b[0;34m(\u001b[0m\u001b[0mself\u001b[0m\u001b[0;34m)\u001b[0m\u001b[0;34m:\u001b[0m\u001b[0;34m\u001b[0m\u001b[0;34m\u001b[0m\u001b[0m\n",
            "\u001b[0;32m/usr/local/lib/python3.9/dist-packages/pandas/io/parsers/readers.py\u001b[0m in \u001b[0;36m_make_engine\u001b[0;34m(self, f, engine)\u001b[0m\n\u001b[1;32m   1214\u001b[0m             \u001b[0;31m# \"Union[str, PathLike[str], ReadCsvBuffer[bytes], ReadCsvBuffer[str]]\"\u001b[0m\u001b[0;34m\u001b[0m\u001b[0;34m\u001b[0m\u001b[0m\n\u001b[1;32m   1215\u001b[0m             \u001b[0;31m# , \"str\", \"bool\", \"Any\", \"Any\", \"Any\", \"Any\", \"Any\"\u001b[0m\u001b[0;34m\u001b[0m\u001b[0;34m\u001b[0m\u001b[0m\n\u001b[0;32m-> 1216\u001b[0;31m             self.handles = get_handle(  # type: ignore[call-overload]\n\u001b[0m\u001b[1;32m   1217\u001b[0m                 \u001b[0mf\u001b[0m\u001b[0;34m,\u001b[0m\u001b[0;34m\u001b[0m\u001b[0;34m\u001b[0m\u001b[0m\n\u001b[1;32m   1218\u001b[0m                 \u001b[0mmode\u001b[0m\u001b[0;34m,\u001b[0m\u001b[0;34m\u001b[0m\u001b[0;34m\u001b[0m\u001b[0m\n",
            "\u001b[0;32m/usr/local/lib/python3.9/dist-packages/pandas/io/common.py\u001b[0m in \u001b[0;36mget_handle\u001b[0;34m(path_or_buf, mode, encoding, compression, memory_map, is_text, errors, storage_options)\u001b[0m\n\u001b[1;32m    784\u001b[0m         \u001b[0;32mif\u001b[0m \u001b[0mioargs\u001b[0m\u001b[0;34m.\u001b[0m\u001b[0mencoding\u001b[0m \u001b[0;32mand\u001b[0m \u001b[0;34m\"b\"\u001b[0m \u001b[0;32mnot\u001b[0m \u001b[0;32min\u001b[0m \u001b[0mioargs\u001b[0m\u001b[0;34m.\u001b[0m\u001b[0mmode\u001b[0m\u001b[0;34m:\u001b[0m\u001b[0;34m\u001b[0m\u001b[0;34m\u001b[0m\u001b[0m\n\u001b[1;32m    785\u001b[0m             \u001b[0;31m# Encoding\u001b[0m\u001b[0;34m\u001b[0m\u001b[0;34m\u001b[0m\u001b[0m\n\u001b[0;32m--> 786\u001b[0;31m             handle = open(\n\u001b[0m\u001b[1;32m    787\u001b[0m                 \u001b[0mhandle\u001b[0m\u001b[0;34m,\u001b[0m\u001b[0;34m\u001b[0m\u001b[0;34m\u001b[0m\u001b[0m\n\u001b[1;32m    788\u001b[0m                 \u001b[0mioargs\u001b[0m\u001b[0;34m.\u001b[0m\u001b[0mmode\u001b[0m\u001b[0;34m,\u001b[0m\u001b[0;34m\u001b[0m\u001b[0;34m\u001b[0m\u001b[0m\n",
            "\u001b[0;32m/usr/lib/python3.9/codecs.py\u001b[0m in \u001b[0;36m__init__\u001b[0;34m(self, errors)\u001b[0m\n\u001b[1;32m    307\u001b[0m     \u001b[0mbyte\u001b[0m \u001b[0msequences\u001b[0m\u001b[0;34m.\u001b[0m\u001b[0;34m\u001b[0m\u001b[0;34m\u001b[0m\u001b[0m\n\u001b[1;32m    308\u001b[0m     \"\"\"\n\u001b[0;32m--> 309\u001b[0;31m     \u001b[0;32mdef\u001b[0m \u001b[0m__init__\u001b[0m\u001b[0;34m(\u001b[0m\u001b[0mself\u001b[0m\u001b[0;34m,\u001b[0m \u001b[0merrors\u001b[0m\u001b[0;34m=\u001b[0m\u001b[0;34m'strict'\u001b[0m\u001b[0;34m)\u001b[0m\u001b[0;34m:\u001b[0m\u001b[0;34m\u001b[0m\u001b[0;34m\u001b[0m\u001b[0m\n\u001b[0m\u001b[1;32m    310\u001b[0m         \u001b[0mIncrementalDecoder\u001b[0m\u001b[0;34m.\u001b[0m\u001b[0m__init__\u001b[0m\u001b[0;34m(\u001b[0m\u001b[0mself\u001b[0m\u001b[0;34m,\u001b[0m \u001b[0merrors\u001b[0m\u001b[0;34m)\u001b[0m\u001b[0;34m\u001b[0m\u001b[0;34m\u001b[0m\u001b[0m\n\u001b[1;32m    311\u001b[0m         \u001b[0;31m# undecoded input that is kept between calls to decode()\u001b[0m\u001b[0;34m\u001b[0m\u001b[0;34m\u001b[0m\u001b[0m\n",
            "\u001b[0;31mKeyboardInterrupt\u001b[0m: "
          ]
        }
      ],
      "source": [
        "import numpy as np\n",
        "import pandas as pd\n",
        "\n",
        "df = pd.concat(map(pd.read_csv, joined_list[:]))\n",
        "# df.query(\"HomeTeam == 'SOU_TRO' | AwayTeam == 'SOU_TRO'\", inplace=True)\n",
        "#csv = df.to_csv(\"/content/drive/Shareddrives/USC Baseball/Scouting Report Data/sc*.csv\", index=False)"
      ]
    },
    {
      "cell_type": "code",
      "execution_count": null,
      "metadata": {
        "id": "n6dmu1UXBzFP"
      },
      "outputs": [],
      "source": [
        "import pandas as pd\n",
        "import numpy as np\n",
        "import glob\n",
        "import os\n",
        "from sklearn.model_selection import train_test_split\n",
        "import matplotlib as plt\n",
        "from sklearn import datasets\n",
        "from sklearn import metrics\n",
        "from sklearn.linear_model import LogisticRegression\n",
        "\n",
        "# makes outcome dataset that only contains singles\n",
        "##outcome = df.query(\"PlayResult =='Single'\")\n",
        "\n",
        "# creates list of conditions that determine whether PlayResult is a hit or not\n",
        "conditions = [\n",
        "    (df['PlayResult'] == 'Single'),\n",
        "    (df['PlayResult'] == 'Double'),\n",
        "    (df['PlayResult'] == 'Triple'),\n",
        "    (df['PlayResult'] == 'HomeRun'),\n",
        "    (df['PlayResult'] == 'Out'),\n",
        "    (df['PlayResult'] == 'Error'),\n",
        "    (df['PlayResult'] == 'Sacrifice'),\n",
        "    (df['PlayResult'] == 'FieldersChoice')\n",
        "]\n",
        "# creates a list of values to assign for hit (1) or not (0)\n",
        "values = [1, 1, 1, 1, 0, 0, 0, 0]\n",
        "# creates new column determining hit or not and assign values to it based on the conditions\n",
        "df['isHit'] = np.select(conditions, values)\n",
        "\n",
        "\n",
        "# Initialize more variables\n",
        "df['EVSquared'] = df['ExitSpeed'] * df['ExitSpeed']\n",
        "df['AngleSquared'] = df['Angle'] * df['Angle']\n",
        "\n",
        "df['EVxLA'] = df['ExitSpeed'] * df['Angle']\n",
        "df['EVxlASquared'] = df['ExitSpeed'] * df['AngleSquared']"
      ]
    },
    {
      "cell_type": "markdown",
      "source": [
        "***Finished training & exporting the model using NCAA Data***\n",
        "\n",
        "Now importing the model into Preseason CSV File to calc xBABIP"
      ],
      "metadata": {
        "id": "iBsSoPqATETe"
      }
    },
    {
      "cell_type": "code",
      "source": [
        "import numpy as np\n",
        "import pandas as pd\n",
        "\n",
        "#filedf = pd.concat(map(pd.read_csv, preseason_list[:]))\n",
        "predf = pd.read_csv(\"/content/drive/Shareddrives/USC Baseball/preseason2023.csv\")\n",
        "# df.query(\"HomeTeam == 'SOU_TRO' | AwayTeam == 'SOU_TRO'\", inplace=True)\n",
        "#csv = df.to_csv(\"/content/drive/Shareddrives/USC Baseball/Scouting Report Data/sc*.csv\", index=False)"
      ],
      "metadata": {
        "id": "Gcr56GoRRdIl",
        "colab": {
          "base_uri": "https://localhost:8080/"
        },
        "outputId": "a9736dbd-55dd-4de0-dc2a-4dec3d25de51"
      },
      "execution_count": null,
      "outputs": [
        {
          "output_type": "stream",
          "name": "stderr",
          "text": [
            "<ipython-input-14-c06bd7265919>:5: DtypeWarning: Columns (27) have mixed types. Specify dtype option on import or set low_memory=False.\n",
            "  predf = pd.read_csv(\"/content/drive/Shareddrives/USC Baseball/preseason2023.csv\")\n"
          ]
        }
      ]
    },
    {
      "cell_type": "code",
      "source": [
        "# creates list of conditions that determine whether PlayResult is a hit or not\n",
        "conditions = [\n",
        "    (predf['PlayResult'] == 'Single'),\n",
        "    (predf['PlayResult'] == 'Double'),\n",
        "    (predf['PlayResult'] == 'Triple'),\n",
        "    (predf['PlayResult'] == 'HomeRun'),\n",
        "    (predf['PlayResult'] == 'Out'),\n",
        "    (predf['PlayResult'] == 'Error'),\n",
        "    (predf['PlayResult'] == 'Sacrifice'),\n",
        "    (predf['PlayResult'] == 'FieldersChoice')\n",
        "]\n",
        "# creates a list of values to assign for hit (1) or not (0)\n",
        "values = [1, 1, 1, 1, 0, 0, 0, 0]\n",
        "# creates new column determining hit or not and assign values to it based on the conditions\n",
        "predf['isHit'] = np.select(conditions, values)\n",
        "\n",
        "\n",
        "# Initialize more variables\n",
        "predf['EVSquared'] = predf['ExitSpeed'] * predf['ExitSpeed']\n",
        "predf['AngleSquared'] = predf['Angle'] * predf['Angle']\n",
        "\n",
        "predf['EVxLA'] = predf['ExitSpeed'] * predf['Angle']\n",
        "predf['EVxlASquared'] = predf['ExitSpeed'] * predf['AngleSquared']"
      ],
      "metadata": {
        "id": "a6Ou1qwDRdAm"
      },
      "execution_count": null,
      "outputs": []
    },
    {
      "cell_type": "code",
      "source": [
        "# adjusted data set to make sure data set fits and eliminates all the string columns\n",
        "preseasonxBABIP = predf.dropna(subset=['Batter', 'KorBB','ExitSpeed', 'Angle', 'HitTrajectoryXc0',\t'HitTrajectoryXc1',\t'HitTrajectoryXc2',\t'HitTrajectoryXc3',\t'HitTrajectoryXc4',\t'HitTrajectoryXc5',\t'HitTrajectoryXc6',\t'HitTrajectoryXc7',\t'HitTrajectoryXc8',\t'HitTrajectoryYc0',\t'HitTrajectoryYc1',\t'HitTrajectoryYc2',\t'HitTrajectoryYc3',\t'HitTrajectoryYc4',\t'HitTrajectoryYc5',\t'HitTrajectoryYc6',\t'HitTrajectoryYc7',\t'HitTrajectoryYc8',\t'HitTrajectoryZc0',\t'HitTrajectoryZc1',\t'HitTrajectoryZc2',\t'HitTrajectoryZc3',\t'HitTrajectoryZc4',\t'HitTrajectoryZc5',\t'HitTrajectoryZc6',\t'HitTrajectoryZc7',\t'HitTrajectoryZc8'])\n",
        "preseasondf = preseasonxBABIP[['ExitSpeed', 'AngleSquared', 'HitTrajectoryXc0', 'HitTrajectoryXc1', 'HitTrajectoryXc2', 'HitTrajectoryXc3', 'HitTrajectoryXc4', 'HitTrajectoryXc5', 'HitTrajectoryXc6',\t'HitTrajectoryXc7',\t'HitTrajectoryXc8',\t'HitTrajectoryYc0',\t'HitTrajectoryYc1',\t'HitTrajectoryYc2',\t'HitTrajectoryYc3',\t'HitTrajectoryYc4',\t'HitTrajectoryYc5',\t'HitTrajectoryYc6',\t'HitTrajectoryYc7',\t'HitTrajectoryYc8',\t'HitTrajectoryZc0',\t'HitTrajectoryZc1',\t'HitTrajectoryZc2',\t'HitTrajectoryZc3',\t'HitTrajectoryZc4',\t'HitTrajectoryZc5',\t'HitTrajectoryZc6',\t'HitTrajectoryZc7',\t'HitTrajectoryZc8']]\n",
        "\n",
        "\n",
        "import joblib\n",
        "# load saved joblib model\n",
        "lm = joblib.load('/content/drive/Shareddrives/USC Baseball/SabermetricModels/batting_avg_model3.joblib')\n",
        "\n",
        "\n",
        "# Creates the list of probabilites from MLPClassifier\n",
        "probabilities = lm.predict_proba(preseasondf)"
      ],
      "metadata": {
        "id": "5ai9ddvC6Us0",
        "colab": {
          "base_uri": "https://localhost:8080/"
        },
        "outputId": "e4f7598b-5e13-4aa7-b159-09f79f1ccb43"
      },
      "execution_count": null,
      "outputs": [
        {
          "output_type": "stream",
          "name": "stderr",
          "text": [
            "/usr/local/lib/python3.9/dist-packages/sklearn/base.py:432: UserWarning: X has feature names, but StandardScaler was fitted without feature names\n",
            "  warnings.warn(\n"
          ]
        }
      ]
    },
    {
      "cell_type": "code",
      "source": [
        "import joblib\n",
        "# load saved joblib model\n",
        "singles = joblib.load('/content/drive/Shareddrives/USC Baseball/SabermetricModels/single_model.joblib')\n",
        "doubles = joblib.load('/content/drive/Shareddrives/USC Baseball/SabermetricModels/double_model.joblib')\n",
        "triples = joblib.load('/content/drive/Shareddrives/USC Baseball/SabermetricModels/triple_model.joblib')\n",
        "HRs = joblib.load('/content/drive/Shareddrives/USC Baseball/SabermetricModels/HR_model.joblib')\n",
        "\n",
        "\n",
        "# Creates the list of probabilites from MLPClassifier\n",
        "preSinglesProbability = singles.predict_proba(preseasondf)\n",
        "preDoublesProbability = doubles.predict_proba(preseasondf)\n",
        "preTriplesProbability = triples.predict_proba(preseasondf)\n",
        "preHRsProbability = HRs.predict_proba(preseasondf)"
      ],
      "metadata": {
        "colab": {
          "base_uri": "https://localhost:8080/"
        },
        "id": "qE3FNSorO7dG",
        "outputId": "391ea366-5a64-4f77-8608-5b6f493f91f4"
      },
      "execution_count": null,
      "outputs": [
        {
          "output_type": "stream",
          "name": "stderr",
          "text": [
            "/usr/local/lib/python3.9/dist-packages/sklearn/base.py:432: UserWarning: X has feature names, but StandardScaler was fitted without feature names\n",
            "  warnings.warn(\n",
            "/usr/local/lib/python3.9/dist-packages/sklearn/base.py:432: UserWarning: X has feature names, but StandardScaler was fitted without feature names\n",
            "  warnings.warn(\n",
            "/usr/local/lib/python3.9/dist-packages/sklearn/base.py:432: UserWarning: X has feature names, but StandardScaler was fitted without feature names\n",
            "  warnings.warn(\n",
            "/usr/local/lib/python3.9/dist-packages/sklearn/base.py:432: UserWarning: X has feature names, but StandardScaler was fitted without feature names\n",
            "  warnings.warn(\n"
          ]
        }
      ]
    },
    {
      "cell_type": "markdown",
      "source": [
        "Creates list of Names"
      ],
      "metadata": {
        "id": "7JVZBbwFS_U7"
      }
    },
    {
      "cell_type": "code",
      "source": [
        "# Converts pandas.core.series.Series into a list of strings in name_list\n",
        "for series in preseasonxBABIP['Batter']:\n",
        "  row_list = series\n",
        "  name_list.append(row_list)\n",
        "\n",
        "# turns all occurences of \"Olmstead, John\" --> \"Olmstead, Johnny\"\n",
        "for i in range(len(name_list)):\n",
        "  if name_list[i] == \"Olmstead, John\":\n",
        "    name_list[i] = \"Olmstead, Johnny\"\n",
        "\n",
        "# turns all occurences of \"Harrison, KaiKea\" --> \"Harrison, Kaikea\"\n",
        "for i in range(len(name_list)):\n",
        "  if name_list[i] == \"Harrison, KaiKea\":\n",
        "    name_list[i] = \"Harrison, Kaikea\""
      ],
      "metadata": {
        "id": "Qw64semguxd8"
      },
      "execution_count": null,
      "outputs": []
    },
    {
      "cell_type": "code",
      "source": [
        "# Creates a list of unique player names. Used to track each player's xBABIP\n",
        "for i in range(len(name_list)):\n",
        "  isSame = False\n",
        "  for j in range(len(unique_name_list)):\n",
        "    if(name_list[i] == unique_name_list[j]):\n",
        "      isSame = True\n",
        "  if isSame == False and name_list[i] != 'nan':\n",
        "    unique_name_list.append(name_list[i])\n",
        "print(unique_name_list)"
      ],
      "metadata": {
        "id": "cY283-8v1W0g",
        "colab": {
          "base_uri": "https://localhost:8080/"
        },
        "outputId": "b97b9fd5-0d29-4b15-bdec-c32210ee1eae"
      },
      "execution_count": null,
      "outputs": [
        {
          "output_type": "stream",
          "name": "stdout",
          "text": [
            "['Colon-Rosado, Adrian', 'Jackson, Ryan', 'Overn, Austin', 'Clift, Connor', 'DiPaolo, Luca', 'Aoki, Connor', 'Clow, Nate', 'Galloway, Jacob', 'Olmstead, Johnny', 'Wells, Carson', 'Gabrielson, Cole', 'Harrison, Kaikea', 'Martin-Grudzielanek, Bryce', 'Lopez, Nick', 'Huber, Caiden', 'Hedges, Ethan', 'Brandon, Caleb', 'Johnson, Taylor', 'Clark, Evan', 'Austin, Channing', 'Olivares, Matthew', 'Firestone, Ethan', 'Lazarus, Rev']\n"
          ]
        }
      ]
    },
    {
      "cell_type": "code",
      "source": [
        "# makes unique_name_list only include valid players\n",
        "\n",
        "unique_name_list = []\n",
        "unique_name_list = ['Colon-Rosado, Adrian', 'Jackson, Ryan', 'Overn, Austin', 'Clift, Connor', 'DiPaolo, Luca', 'Aoki, Connor', 'Clow, Nate', 'Galloway, Jacob', 'Olmstead, Johnny', 'Wells, Carson', 'Gabrielson, Cole', 'Harrison, Kaikea', 'Martin-Grudzielanek, Bryce', 'Lopez, Nick', 'Huber, Caiden', 'Hedges, Ethan', 'Brandon, Caleb']\n"
      ],
      "metadata": {
        "id": "zxx46YyNwpKa"
      },
      "execution_count": null,
      "outputs": []
    },
    {
      "cell_type": "code",
      "source": [
        "spreadsheet_names = []\n",
        "spreadsheet_names = ['Overn, Austin', 'Hedges, Ethan', 'Lopez, Nick', 'Gabrielson, Cole', 'Jackson, Ryan', 'Wells, Carson', 'Olmstead, Johnny', 'Martin-Grudzielanek, Bryce', 'DiPaolo, Luca', 'Clift, Connor', 'Galloway, Jacob', 'Colon-Rosado, Adrian', 'Aoki, Connor', 'Huber, Caiden', 'Clow, Nate', 'Harrison, Kaikea']\n"
      ],
      "metadata": {
        "id": "1YEKYyt-X6Pg"
      },
      "execution_count": null,
      "outputs": []
    },
    {
      "cell_type": "markdown",
      "source": [
        "This calculates the xBABIP.\n",
        "\n",
        "xBABIP = probSum / num_BIP"
      ],
      "metadata": {
        "id": "BTsykOpAeWgm"
      }
    },
    {
      "cell_type": "code",
      "source": [
        "(pre_singles_list) = []\n",
        "(pre_doubles_list)= []\n",
        "(pre_triples_list)= []\n",
        "(pre_HR_list)= []\n",
        "(pretotalBases_list)= []\n",
        "(prenum_BIP)= []\n",
        "presumBABIP = []\n",
        "prexBABIP_list = []"
      ],
      "metadata": {
        "id": "9yt5RLzOelX1"
      },
      "execution_count": null,
      "outputs": []
    },
    {
      "cell_type": "code",
      "source": [
        "# Loop through each unique player name\n",
        "for name in range(len(unique_name_list)):\n",
        "  # resets probSum & BIPcounter counters\n",
        "  preprobSum = 0.0\n",
        "  preBIPcounter = 0\n",
        "  pretotalBases = 0.0\n",
        "  prenum_singles = 0.0\n",
        "  prenum_doubles = 0.0\n",
        "  prenum_triples = 0.0\n",
        "  prenum_HR = 0.0\n",
        "  # counts number of times a given player put ball in play & the probability of hit\n",
        "  for i in range(len(name_list)):\n",
        "    if(name_list[i] == unique_name_list[name]):\n",
        "      preBIPcounter += 1\n",
        "      preprobSum += probabilities[i][1] # probabilities contains 2 different numbers that are sum to 1\n",
        "      prenum_singles += .9368*(preSinglesProbability[i][1]) # probabilities contains 2 different numbers that are sum to 1\n",
        "      prenum_doubles += (.835*((preDoublesProbability[i][1])))/4 # probabilities contains 2 different numbers that are sum to 1\n",
        "      prenum_triples += (.8667*((preTriplesProbability[i][1])))/9 # probabilities contains 2 different numbers that are sum to 1\n",
        "      prenum_HR += (.92857*((preHRsProbability[i][1])))/16 # probabilities contains 2 different numbers that are sum to 1\n",
        "  # stores # balls in play for each player\n",
        "  prenum_BIP.append(preBIPcounter)\n",
        "  # stores sum of BABIP for each player\n",
        "  presumBABIP.append(preprobSum)\n",
        "  # stores total bases for each player\n",
        "  pre_singles_list.append(prenum_singles)\n",
        "  pre_doubles_list.append(prenum_doubles)\n",
        "  pre_triples_list.append(prenum_triples)\n",
        "  pre_HR_list.append(prenum_HR)\n",
        "\n",
        "  pretotalBases = prenum_singles + 2*prenum_doubles + (3)*prenum_triples +4*prenum_HR\n",
        "  pretotalBases_list.append(pretotalBases)\n",
        "\n",
        "\n",
        "  # calculates the predicted BABIP by dividing prob of hit by total counter\n",
        "  predBABIP = (.78*preprobSum)/(.94*preBIPcounter)\n",
        "  # stores xBABIP for each player\n",
        "  prexBABIP_list.append(predBABIP)\n"
      ],
      "metadata": {
        "id": "j4tLOJHAwOMP"
      },
      "execution_count": null,
      "outputs": []
    },
    {
      "cell_type": "code",
      "source": [
        "print(\"Expected Batting Average on Balls in Play from Preseason: \\n\")\n",
        "\n",
        "# prints each player's name & their xBABIP\n",
        "for i in range(len(unique_name_list)):\n",
        "  print(unique_name_list[i] + \": \" + str(round(prexBABIP_list[i], 3)) + \"\\t\\t\\t. Hit \" + str(prenum_BIP[i]) + \" balls in play during preseason.\")"
      ],
      "metadata": {
        "id": "ASGlOtKSwOB_",
        "colab": {
          "base_uri": "https://localhost:8080/"
        },
        "outputId": "288e4967-95f9-467d-dc6a-a1a2748d84d1"
      },
      "execution_count": null,
      "outputs": [
        {
          "output_type": "stream",
          "name": "stdout",
          "text": [
            "Expected Batting Average on Balls in Play from Preseason: \n",
            "\n",
            "Colon-Rosado, Adrian: 0.285\t\t\t. Hit 49 balls in play during preseason.\n",
            "Jackson, Ryan: 0.431\t\t\t. Hit 43 balls in play during preseason.\n",
            "Overn, Austin: 0.221\t\t\t. Hit 38 balls in play during preseason.\n",
            "Clift, Connor: 0.295\t\t\t. Hit 31 balls in play during preseason.\n",
            "DiPaolo, Luca: 0.383\t\t\t. Hit 33 balls in play during preseason.\n",
            "Aoki, Connor: 0.437\t\t\t. Hit 41 balls in play during preseason.\n",
            "Clow, Nate: 0.293\t\t\t. Hit 17 balls in play during preseason.\n",
            "Galloway, Jacob: 0.36\t\t\t. Hit 37 balls in play during preseason.\n",
            "Olmstead, Johnny: 0.271\t\t\t. Hit 41 balls in play during preseason.\n",
            "Wells, Carson: 0.433\t\t\t. Hit 25 balls in play during preseason.\n",
            "Gabrielson, Cole: 0.323\t\t\t. Hit 40 balls in play during preseason.\n",
            "Harrison, Kaikea: 0.313\t\t\t. Hit 39 balls in play during preseason.\n",
            "Martin-Grudzielanek, Bryce: 0.421\t\t\t. Hit 49 balls in play during preseason.\n",
            "Lopez, Nick: 0.367\t\t\t. Hit 41 balls in play during preseason.\n",
            "Huber, Caiden: 0.254\t\t\t. Hit 26 balls in play during preseason.\n",
            "Hedges, Ethan: 0.348\t\t\t. Hit 33 balls in play during preseason.\n",
            "Brandon, Caleb: 0.357\t\t\t. Hit 8 balls in play during preseason.\n"
          ]
        }
      ]
    },
    {
      "cell_type": "markdown",
      "source": [
        "Goes through list to find # of strikeouts. Expected batting average will be calculated by:\n",
        "\n",
        "xBA = probSum / (num_BIP + num_K)"
      ],
      "metadata": {
        "id": "o6LhpgRYdx8M"
      }
    },
    {
      "cell_type": "markdown",
      "source": [
        "Counts # of K's or BB's in Preseason Data"
      ],
      "metadata": {
        "id": "Fi1ZP9-cTCbR"
      }
    },
    {
      "cell_type": "code",
      "source": [
        "# Converts pandas.core.series.Series into a list of strings in name_list for Strikeouts and Walks\n",
        "for series in predf['KorBB']:\n",
        "  row_list = series\n",
        "  preKorBB_list.append(row_list)\n",
        "\n",
        "\n",
        "# Converts pandas.core.series.Series into a list of strings in name_list for Hit by Pitches\n",
        "for series in predf['PitchCall']:\n",
        "  row_list = series\n",
        "  preHBP_list.append(row_list)\n",
        "\n",
        "\n",
        "# Converts pandas.core.series.Series into a list of strings in name_list for Names\n",
        "for series in predf['Batter']:\n",
        "  Krow_list = series\n",
        "  preKorBBname_list.append(Krow_list)"
      ],
      "metadata": {
        "id": "XfPg7ZEafKf_"
      },
      "execution_count": null,
      "outputs": []
    },
    {
      "cell_type": "code",
      "source": [
        "# Loop through each unique player name\n",
        "for name in range(len(unique_name_list)):\n",
        "  # resets Kcounter && BBcounter\n",
        "  preKcounter = 0\n",
        "  preBBcounter = 0\n",
        "  preHBPcounter = 0\n",
        "\n",
        "  # counts number of times a given player put ball in play & the probability of hit\n",
        "  for i in range(len(preKorBB_list)):\n",
        "    if(preKorBB_list[i] == \"Strikeout\" and preKorBBname_list[i] == unique_name_list[name]):\n",
        "      preKcounter += 1\n",
        "    if(preKorBB_list[i] == \"Walk\" and preKorBBname_list[i] == unique_name_list[name]):\n",
        "      preBBcounter += 1\n",
        "    if(preHBP_list[i] == \"HitByPitch\" and preKorBBname_list[i] == unique_name_list[name]):\n",
        "      preHBPcounter += 1\n",
        "\n",
        "  # stores # strikeouts for each player\n",
        "  prenum_K.append(preKcounter)\n",
        "  prenum_BB.append(preBBcounter)\n",
        "  prenum_HBP.append(preHBPcounter)"
      ],
      "metadata": {
        "id": "2l6PVAzodwb0"
      },
      "execution_count": null,
      "outputs": []
    },
    {
      "cell_type": "code",
      "source": [
        "# prints each player's name & their # BIP & Ks\n",
        "for i in range(len(unique_name_list)):\n",
        "  print(unique_name_list[i] + \": \" + str(prenum_BIP[i]) + \" BIPs, \" + str(prenum_K[i]) + \" Ks & \" + str(prenum_BB[i]) + \" BBs during preseason.\")"
      ],
      "metadata": {
        "colab": {
          "base_uri": "https://localhost:8080/"
        },
        "id": "ZwCtvQfviECW",
        "outputId": "aac4290c-0238-42b9-a042-d3ce31b3fe78"
      },
      "execution_count": null,
      "outputs": [
        {
          "output_type": "stream",
          "name": "stdout",
          "text": [
            "Colon-Rosado, Adrian: 49 BIPs, 6 Ks & 5 BBs during preseason.\n",
            "Jackson, Ryan: 43 BIPs, 12 Ks & 7 BBs during preseason.\n",
            "Overn, Austin: 38 BIPs, 16 Ks & 9 BBs during preseason.\n",
            "Clift, Connor: 31 BIPs, 11 Ks & 11 BBs during preseason.\n",
            "DiPaolo, Luca: 33 BIPs, 18 Ks & 4 BBs during preseason.\n",
            "Aoki, Connor: 41 BIPs, 15 Ks & 7 BBs during preseason.\n",
            "Clow, Nate: 17 BIPs, 6 Ks & 0 BBs during preseason.\n",
            "Galloway, Jacob: 37 BIPs, 4 Ks & 8 BBs during preseason.\n",
            "Olmstead, Johnny: 41 BIPs, 6 Ks & 1 BBs during preseason.\n",
            "Wells, Carson: 25 BIPs, 14 Ks & 8 BBs during preseason.\n",
            "Gabrielson, Cole: 40 BIPs, 20 Ks & 4 BBs during preseason.\n",
            "Harrison, Kaikea: 39 BIPs, 16 Ks & 6 BBs during preseason.\n",
            "Martin-Grudzielanek, Bryce: 49 BIPs, 13 Ks & 6 BBs during preseason.\n",
            "Lopez, Nick: 41 BIPs, 8 Ks & 6 BBs during preseason.\n",
            "Huber, Caiden: 26 BIPs, 19 Ks & 14 BBs during preseason.\n",
            "Hedges, Ethan: 33 BIPs, 16 Ks & 6 BBs during preseason.\n",
            "Brandon, Caleb: 8 BIPs, 11 Ks & 1 BBs during preseason.\n"
          ]
        }
      ]
    },
    {
      "cell_type": "code",
      "source": [
        "# Calculate xBA & OBP\n",
        "\n",
        "\n",
        "# Loop through each unique player name\n",
        "for i in range(len(unique_name_list)):\n",
        "  # calls BIPcounter, probSum, and Kcounter\n",
        "  preKcounter = prenum_K[i]\n",
        "  preBIPcounter = prenum_BIP[i]\n",
        "  preprobSum = presumBABIP[i]\n",
        "\n",
        "  # calculates xBA\n",
        "  xBA = (.78*preprobSum) / (.94*preBIPcounter + (0.552*preKcounter)) # .80 is the proportion of BIP that Trackman has with all the required Hit Metrics. Evens the distribution\n",
        "  # puts calculated expected batting average into list holding it\n",
        "  prexBA_list.append(xBA)\n",
        "\n",
        "  # calculates xOBP\n",
        "  #predOBP = ( preprobSum + 0.80*prenum_BB[i] + 0.80*prenum_HBP[i] ) / ( prenum_BIP[i] + (0.80 * prenum_K[i]) + 0.80*prenum_BB[i] + 0.80*prenum_HBP[i] )\n",
        "  predOBP = ( .78*preprobSum + 0.552 *prenum_BB[i] + 0.552*prenum_HBP[i] ) / ( .94*prenum_BIP[i] + (0.552 * prenum_K[i]) + 0.552*prenum_BB[i] + 0.552*prenum_HBP[i] )\n",
        "  prexOBP_list.append(predOBP)"
      ],
      "metadata": {
        "id": "LL2H7-wIjlRc"
      },
      "execution_count": null,
      "outputs": []
    },
    {
      "cell_type": "code",
      "source": [
        "print(\"Expected On-Base Percentage from Preseason: \\n\")\n",
        "\n",
        "# prints each player's name & their xBA\n",
        "for i in range(len(unique_name_list)):\n",
        "  print(unique_name_list[i] + \" : \" + str(round(prexOBP_list[i], 3)))"
      ],
      "metadata": {
        "id": "QVgFleLwgkC0",
        "colab": {
          "base_uri": "https://localhost:8080/"
        },
        "outputId": "2db944e7-f8aa-491a-b34f-d95c9782b4c7"
      },
      "execution_count": null,
      "outputs": [
        {
          "output_type": "stream",
          "name": "stdout",
          "text": [
            "Expected On-Base Percentage from Preseason: \n",
            "\n",
            "Colon-Rosado, Adrian : 0.32\n",
            "Jackson, Ryan : 0.436\n",
            "Overn, Austin : 0.284\n",
            "Clift, Connor : 0.355\n",
            "DiPaolo, Luca : 0.351\n",
            "Aoki, Connor : 0.427\n",
            "Clow, Nate : 0.264\n",
            "Galloway, Jacob : 0.409\n",
            "Olmstead, Johnny : 0.259\n",
            "Wells, Carson : 0.444\n",
            "Gabrielson, Cole : 0.29\n",
            "Harrison, Kaikea : 0.311\n",
            "Martin-Grudzielanek, Bryce : 0.401\n",
            "Lopez, Nick : 0.377\n",
            "Huber, Caiden : 0.335\n",
            "Hedges, Ethan : 0.335\n",
            "Brandon, Caleb : 0.229\n"
          ]
        }
      ]
    },
    {
      "cell_type": "code",
      "source": [
        "print(\"Expected Batting Average from Preseason: \\n\")\n",
        "\n",
        "# prints each player's name & their xBA\n",
        "for i in range(len(unique_name_list)):\n",
        "  print(unique_name_list[i] + \" : \" + str(round(prexBA_list[i], 3)))"
      ],
      "metadata": {
        "id": "yCx7ILbxnygp",
        "colab": {
          "base_uri": "https://localhost:8080/"
        },
        "outputId": "e425d400-d768-45a8-dbec-0a958f58f9d7"
      },
      "execution_count": null,
      "outputs": [
        {
          "output_type": "stream",
          "name": "stdout",
          "text": [
            "Expected Batting Average from Preseason: \n",
            "\n",
            "Colon-Rosado, Adrian : 0.266\n",
            "Jackson, Ryan : 0.37\n",
            "Overn, Austin : 0.177\n",
            "Clift, Connor : 0.244\n",
            "DiPaolo, Luca : 0.29\n",
            "Aoki, Connor : 0.36\n",
            "Clow, Nate : 0.242\n",
            "Galloway, Jacob : 0.339\n",
            "Olmstead, Johnny : 0.249\n",
            "Wells, Carson : 0.326\n",
            "Gabrielson, Cole : 0.25\n",
            "Harrison, Kaikea : 0.252\n",
            "Martin-Grudzielanek, Bryce : 0.364\n",
            "Lopez, Nick : 0.329\n",
            "Huber, Caiden : 0.178\n",
            "Hedges, Ethan : 0.271\n",
            "Brandon, Caleb : 0.198\n"
          ]
        }
      ]
    },
    {
      "cell_type": "markdown",
      "source": [
        "Code Below used to calculate xBABIP & xBA including 2022 Season"
      ],
      "metadata": {
        "id": "DTtTIzfiWnwc"
      }
    },
    {
      "cell_type": "code",
      "source": [
        "xBABIP = df.dropna(subset=['ExitSpeed', 'Angle', 'HitTrajectoryXc0',\t'HitTrajectoryXc1',\t'HitTrajectoryXc2',\t'HitTrajectoryXc3',\t'HitTrajectoryXc4',\t'HitTrajectoryXc5',\t'HitTrajectoryXc6',\t'HitTrajectoryXc7',\t'HitTrajectoryXc8',\t'HitTrajectoryYc0',\t'HitTrajectoryYc1',\t'HitTrajectoryYc2',\t'HitTrajectoryYc3',\t'HitTrajectoryYc4',\t'HitTrajectoryYc5',\t'HitTrajectoryYc6',\t'HitTrajectoryYc7',\t'HitTrajectoryYc8',\t'HitTrajectoryZc0',\t'HitTrajectoryZc1',\t'HitTrajectoryZc2',\t'HitTrajectoryZc3',\t'HitTrajectoryZc4',\t'HitTrajectoryZc5',\t'HitTrajectoryZc6',\t'HitTrajectoryZc7',\t'HitTrajectoryZc8'])\n",
        "fulldf = xBABIP[['ExitSpeed', 'AngleSquared', 'HitTrajectoryXc0', 'HitTrajectoryXc1', 'HitTrajectoryXc2', 'HitTrajectoryXc3', 'HitTrajectoryXc4', 'HitTrajectoryXc5', 'HitTrajectoryXc6',\t'HitTrajectoryXc7',\t'HitTrajectoryXc8',\t'HitTrajectoryYc0',\t'HitTrajectoryYc1',\t'HitTrajectoryYc2',\t'HitTrajectoryYc3',\t'HitTrajectoryYc4',\t'HitTrajectoryYc5',\t'HitTrajectoryYc6',\t'HitTrajectoryYc7',\t'HitTrajectoryYc8',\t'HitTrajectoryZc0',\t'HitTrajectoryZc1',\t'HitTrajectoryZc2',\t'HitTrajectoryZc3',\t'HitTrajectoryZc4',\t'HitTrajectoryZc5',\t'HitTrajectoryZc6',\t'HitTrajectoryZc7',\t'HitTrajectoryZc8']]\n",
        "\n",
        "\n",
        "# Creates the list of probabilites from MLPClassifier\n",
        "fullprobabilities = lm.predict_proba(fulldf)\n",
        "SinglesProbability = singles.predict_proba(fulldf)\n",
        "DoublesProbability = doubles.predict_proba(fulldf)\n",
        "TriplesProbability = triples.predict_proba(fulldf)\n",
        "HRsProbability = HRs.predict_proba(fulldf)"
      ],
      "metadata": {
        "id": "4E_CqfLoT8tS",
        "colab": {
          "base_uri": "https://localhost:8080/"
        },
        "outputId": "a21894c6-195f-4dbc-800d-34c3a6c75349"
      },
      "execution_count": null,
      "outputs": [
        {
          "output_type": "stream",
          "name": "stderr",
          "text": [
            "/usr/local/lib/python3.9/dist-packages/sklearn/base.py:432: UserWarning: X has feature names, but StandardScaler was fitted without feature names\n",
            "  warnings.warn(\n",
            "/usr/local/lib/python3.9/dist-packages/sklearn/base.py:432: UserWarning: X has feature names, but StandardScaler was fitted without feature names\n",
            "  warnings.warn(\n",
            "/usr/local/lib/python3.9/dist-packages/sklearn/base.py:432: UserWarning: X has feature names, but StandardScaler was fitted without feature names\n",
            "  warnings.warn(\n",
            "/usr/local/lib/python3.9/dist-packages/sklearn/base.py:432: UserWarning: X has feature names, but StandardScaler was fitted without feature names\n",
            "  warnings.warn(\n",
            "/usr/local/lib/python3.9/dist-packages/sklearn/base.py:432: UserWarning: X has feature names, but StandardScaler was fitted without feature names\n",
            "  warnings.warn(\n"
          ]
        }
      ]
    },
    {
      "cell_type": "markdown",
      "source": [
        "Gets names from NCAA data"
      ],
      "metadata": {
        "id": "YF-sYE0GTbPB"
      }
    },
    {
      "cell_type": "code",
      "source": [
        "# Converts pandas.core.series.Series into a list of strings in last_list\n",
        "last_list = []\n",
        "for series in xBABIP['Batter']:\n",
        "  row_list = series\n",
        "  last_list.append(row_list)\n",
        "\n",
        "\n",
        "# Converts pandas.core.series.Series into a list of strings in name_list for Strikeouts and Walks\n",
        "KorBB_list = []\n",
        "for series in df['KorBB']:\n",
        "  row_list = series\n",
        "  KorBB_list.append(row_list)\n",
        "\n",
        "\n",
        "# Converts pandas.core.series.Series into a list of strings in name_list for Hit by Pitches\n",
        "HBP_list = []\n",
        "for series in df['PitchCall']:\n",
        "  row_list = series\n",
        "  HBP_list.append(row_list)\n",
        "\n",
        "\n",
        "# Converts pandas.core.series.Series into a list of strings in name_list for Names\n",
        "KorBBname_list = []\n",
        "for series in df['Batter']:\n",
        "  Krow_list = series\n",
        "  KorBBname_list.append(Krow_list)"
      ],
      "metadata": {
        "id": "vIaYSaK3UcSZ"
      },
      "execution_count": null,
      "outputs": []
    },
    {
      "cell_type": "code",
      "source": [
        "num_BIP = []\n",
        "xBABIP_list = []\n",
        "sumBABIP = []\n",
        "singles_list = []\n",
        "doubles_list = []\n",
        "triples_list = []\n",
        "HR_list = []\n",
        "totalBases_list = []"
      ],
      "metadata": {
        "id": "vb1vZuCqSw_P"
      },
      "execution_count": null,
      "outputs": []
    },
    {
      "cell_type": "code",
      "source": [
        "# adds in occurrences & predSum from 2022 & 2023 Full Data set\n",
        "\n",
        "# Loop through each unique player name\n",
        "for x in range(len(unique_name_list)):\n",
        "  # resets probSum & BIPcounter counters\n",
        "  probSum = presumBABIP[x]\n",
        "  BIPcounter = prenum_BIP[x]\n",
        "  totalBases = pretotalBases_list[x]\n",
        "  num_singles = pre_singles_list[x]\n",
        "  num_doubles = pre_doubles_list[x]\n",
        "  num_triples = pre_triples_list[x]\n",
        "  num_HR = pre_HR_list[x]\n",
        "  # counts number of times a given player put ball in play & the probability of hit\n",
        "  for i in range(len(last_list)):\n",
        "    if(last_list[i] == unique_name_list[x]):\n",
        "      BIPcounter += 1\n",
        "      probSum += fullprobabilities[i][1] # probabilities contains 2 different numbers that are sum to 1\n",
        "      num_singles += (.9368*(SinglesProbability[i][1])) # probabilities contains 2 different numbers that are sum to 1\n",
        "      num_doubles += (.835*((DoublesProbability[i][1])))/4 # probabilities contains 2 different numbers that are sum to 1\n",
        "      num_triples += (.8667*((TriplesProbability[i][1])))/9 # probabilities contains 2 different numbers that are sum to 1\n",
        "      num_HR += (.92857*((HRsProbability[i][1])))/16 # probabilities contains 2 different numbers that are sum to 1\n",
        "  # stores # balls in play for each player\n",
        "  num_BIP.append(BIPcounter)\n",
        "  # calculates the predicted BABIP by dividing prob of hit by total BIPcounter\n",
        "  predBABIP = (.78*probSum)/(.94*BIPcounter)\n",
        "  # stores xBABIP for each player\n",
        "  xBABIP_list.append(predBABIP)\n",
        "  sumBABIP.append(probSum)\n",
        "\n",
        "  singles_list.append(num_singles)\n",
        "  doubles_list.append(num_doubles)\n",
        "  triples_list.append(num_triples)\n",
        "  HR_list.append(num_HR)\n",
        "\n",
        "  totalBases = num_singles + 2*(num_doubles) + 3*(num_triples) + 4*(num_HR)\n",
        "  totalBases_list.append(totalBases)\n"
      ],
      "metadata": {
        "id": "ni9XNJb4P2w4"
      },
      "execution_count": null,
      "outputs": []
    },
    {
      "cell_type": "code",
      "source": [
        "print(\"Expected Batting Average on Balls in Play (xBABIP) from Preseason + 2022 Season + 2023 Season:\\n\")\n",
        "\n",
        "# prints each player's name & their xBABIP\n",
        "for i in range(len(unique_name_list)):\n",
        "  print(unique_name_list[i] + \": \" + str(round(xBABIP_list[i], 3)) + \"\\t\\t\\t. Hit \" + str(num_BIP[i]) + \" balls in play during preseason + 2022 + 2023.\")"
      ],
      "metadata": {
        "colab": {
          "base_uri": "https://localhost:8080/"
        },
        "id": "N-HZTI2fRZZu",
        "outputId": "7aee8f96-0ea2-4776-8dd8-78743a743dd0"
      },
      "execution_count": null,
      "outputs": [
        {
          "output_type": "stream",
          "name": "stdout",
          "text": [
            "Expected Batting Average on Balls in Play (xBABIP) from Preseason + 2022 Season + 2023 Season:\n",
            "\n",
            "Colon-Rosado, Adrian: 0.308\t\t\t. Hit 171 balls in play during preseason + 2022 + 2023.\n",
            "Jackson, Ryan: 0.363\t\t\t. Hit 211 balls in play during preseason + 2022 + 2023.\n",
            "Overn, Austin: 0.314\t\t\t. Hit 194 balls in play during preseason + 2022 + 2023.\n",
            "Clift, Connor: 0.301\t\t\t. Hit 104 balls in play during preseason + 2022 + 2023.\n",
            "DiPaolo, Luca: 0.363\t\t\t. Hit 48 balls in play during preseason + 2022 + 2023.\n",
            "Aoki, Connor: 0.399\t\t\t. Hit 92 balls in play during preseason + 2022 + 2023.\n",
            "Clow, Nate: 0.316\t\t\t. Hit 50 balls in play during preseason + 2022 + 2023.\n",
            "Galloway, Jacob: 0.358\t\t\t. Hit 52 balls in play during preseason + 2022 + 2023.\n",
            "Olmstead, Johnny: 0.262\t\t\t. Hit 170 balls in play during preseason + 2022 + 2023.\n",
            "Wells, Carson: 0.337\t\t\t. Hit 113 balls in play during preseason + 2022 + 2023.\n",
            "Gabrielson, Cole: 0.339\t\t\t. Hit 139 balls in play during preseason + 2022 + 2023.\n",
            "Harrison, Kaikea: 0.319\t\t\t. Hit 47 balls in play during preseason + 2022 + 2023.\n",
            "Martin-Grudzielanek, Bryce: 0.331\t\t\t. Hit 160 balls in play during preseason + 2022 + 2023.\n",
            "Lopez, Nick: 0.354\t\t\t. Hit 267 balls in play during preseason + 2022 + 2023.\n",
            "Huber, Caiden: 0.287\t\t\t. Hit 56 balls in play during preseason + 2022 + 2023.\n",
            "Hedges, Ethan: 0.366\t\t\t. Hit 121 balls in play during preseason + 2022 + 2023.\n",
            "Brandon, Caleb: 0.333\t\t\t. Hit 13 balls in play during preseason + 2022 + 2023.\n"
          ]
        }
      ]
    },
    {
      "cell_type": "markdown",
      "source": [
        "Goes through last years data to find # of strikeouts. Expected batting average will be calculated by:\n",
        "\n",
        "xBA = probSum / (num_BIP + num_K)"
      ],
      "metadata": {
        "id": "biDFR0yPqTC0"
      }
    },
    {
      "cell_type": "markdown",
      "source": [
        "Counter # of K's or BB's in NCAA Data"
      ],
      "metadata": {
        "id": "q-uViWP9Te8C"
      }
    },
    {
      "cell_type": "code",
      "source": [
        "# adds in Kcounter, BBcounter, and HBPcounter from 2022\n",
        "xBA_list = []\n",
        "xOBP_list = []\n",
        "num_K = []\n",
        "num_BB = []\n",
        "num_HBP = []\n",
        "# Loop through each unique player name\n",
        "for x in range(len(unique_name_list)):\n",
        "  # resets Kcounterm, BBcounter, and HBPcounter\n",
        "  Kcounter = prenum_K[x]\n",
        "  BBcounter = prenum_BB[x]\n",
        "  HBPcounter = prenum_HBP[x]\n",
        "\n",
        "  # counts number of times a given player struck out\n",
        "  for i in range(len(KorBB_list)):\n",
        "    if(KorBB_list[i] == \"Strikeout\" and KorBBname_list[i] == unique_name_list[x]):\n",
        "      Kcounter += 1\n",
        "    if(KorBB_list[i] == \"Walk\" and KorBBname_list[i] == unique_name_list[x]):\n",
        "      BBcounter += 1\n",
        "    if(HBP_list[i] == \"HitByPitch\" and KorBBname_list[i] == unique_name_list[x]):\n",
        "      HBPcounter += 1\n",
        "\n",
        "  # stores # Ks for each player\n",
        "  #print(\"Ks: \" + str(Kcounter))\n",
        "  num_K.append(Kcounter)\n",
        "  #print(\"Walks: \" + str(BBcounter))\n",
        "  num_BB.append(BBcounter)\n",
        "  num_HBP.append(HBPcounter)\n",
        "\n",
        "  # xBA & xOBP; Note: Changed .552 -> 1 -> .8 to compensate for overly high BA\n",
        "  predBA = (.78*sumBABIP[x]) / ( .94*num_BIP[x] + (.552 * num_K[x])) # 0.552 reflects the proportion of BIP that Trackman unable to tag\n",
        "  predOBP = ( .78*sumBABIP[x] + .552*num_BB[x] + .552*num_HBP[x] ) / ( .94*num_BIP[x] + (.552 * num_K[x]) + .552*num_BB[x] + .552*num_HBP[x] )\n",
        "  #print(num_BB)\n",
        "  # stores xBA for each player\n",
        "  xBA_list.append(predBA)\n",
        "  xOBP_list.append(predOBP)"
      ],
      "metadata": {
        "id": "uQ6WnbZCtbV8"
      },
      "execution_count": null,
      "outputs": []
    },
    {
      "cell_type": "code",
      "source": [
        "# Calculate PA/K and PA/BB\n",
        "\n",
        "PAperK_list = []\n",
        "PAperBB_list = []\n",
        "num_PA = []\n",
        "num_AB = []\n",
        "\n",
        "for x in range(len(unique_name_list)):\n",
        "  PAcount = ( .94*num_BIP[x] + (.552 * num_K[x]) + .552*num_BB[x] + .552*num_HBP[x] )\n",
        "  num_PA.append(PAcount)\n",
        "  PAperK_list.append((.94*num_PA[x]) / (.552*num_K[x]))\n",
        "\n",
        "  ABcount = ( .94*num_BIP[x] + (.552 * num_K[x]))\n",
        "  num_AB.append(ABcount)\n",
        "  PAperBB_list.append((.94*num_PA[x]) / (.552*num_BB[x]))\n",
        "\n",
        "\n",
        "# Calculate SLG, RC, wOBA, ISO, OPS\n",
        "xSLG = 0.0 # to be used when calculating expected slugging\n",
        "xwOBA = 0.0 # to be used when calculating expected wOBA\n",
        "xRC = 0.0 # to be used when calculating expected Runs Created\n",
        "xSLG_list = [] # holds expected Slugging\n",
        "xwOBA_list = [] # holds expected wOBA\n",
        "xRC_list = [] # holds expected RC\n",
        "xISO_list = []\n",
        "xOPS_list = []\n",
        "\n",
        "for x in range(len(unique_name_list)):\n",
        "  xSLG = 0.0\n",
        "  xSLG = totalBases_list[x] / (.552*num_K[x] + num_BIP[x])\n",
        "  xSLG_list.append(xSLG)\n",
        "\n",
        "  xwOBA = 0.0\n",
        "  xwOBA = ( (0.690*(.552*num_BB[x])) + (0.722*(.552*num_HBP[x])) + (0.888*singles_list[x]) + (1.271*doubles_list[x]) + (1.616*triples_list[x]) + (2.101*HR_list[x]) ) / ( num_AB[x] + num_BB[x] + num_HBP[x] )\n",
        "  xwOBA_list.append(xwOBA)\n",
        "\n",
        "  xRC = 0.0\n",
        "  xRC = ((totalBases_list[x]) * ( .78*sumBABIP[x] + .552*num_BB[x])) / ( (.94*num_AB[x]) + ( .552* num_BB[x]))\n",
        "  xRC_list.append(xRC)\n",
        "\n",
        "  xISO_list.append(xSLG_list[x] - xBA_list[x])\n",
        "\n",
        "  xOPS_list.append(xSLG_list[x] + xOBP_list[x])\n",
        "\n"
      ],
      "metadata": {
        "id": "RNenOdU5nbq1"
      },
      "execution_count": null,
      "outputs": []
    },
    {
      "cell_type": "code",
      "source": [
        "print(xwOBA_list)"
      ],
      "metadata": {
        "colab": {
          "base_uri": "https://localhost:8080/"
        },
        "id": "LobsvmX6h0lo",
        "outputId": "94c393c8-8f7c-47e6-cf03-4b6dea8a796b"
      },
      "execution_count": null,
      "outputs": [
        {
          "output_type": "stream",
          "name": "stdout",
          "text": [
            "[0.36347902435647217, 0.41518848056117574, 0.3438374083717697, 0.3490586390900681, 0.368997146942768, 0.37497699914833144, 0.323055342428819, 0.5101837525801061, 0.3258918807077898, 0.33043944467909664, 0.29981209091999755, 0.37796498682426827, 0.35552001251069476, 0.40661570548746606, 0.31014775634940284, 0.3978842725328261, 0.36804820452210874]\n"
          ]
        }
      ]
    },
    {
      "cell_type": "code",
      "source": [
        "print(\"Expected Batting Average (xBA) from Preseason + 2022 Season + 2023 Season:\\n\")\n",
        "\n",
        "# prints each player's name & their xBABIP\n",
        "for i in range(len(unique_name_list)):\n",
        "  print(unique_name_list[i] + \": \" + str(round(xBA_list[i], 3)) + \"\\t\\t\\t. Hit \" + str(num_BIP[i]) + \" balls in play during preseason, 2022, and 2023.\")"
      ],
      "metadata": {
        "colab": {
          "base_uri": "https://localhost:8080/"
        },
        "id": "KvHy_xrscYZh",
        "outputId": "595cdf36-0f4e-47fa-a174-637474a5d5e4"
      },
      "execution_count": null,
      "outputs": [
        {
          "output_type": "stream",
          "name": "stdout",
          "text": [
            "Expected Batting Average (xBA) from Preseason + 2022 Season + 2023 Season:\n",
            "\n",
            "Colon-Rosado, Adrian: 0.274\t\t\t. Hit 171 balls in play during preseason, 2022, and 2023.\n",
            "Jackson, Ryan: 0.331\t\t\t. Hit 211 balls in play during preseason, 2022, and 2023.\n",
            "Overn, Austin: 0.28\t\t\t. Hit 194 balls in play during preseason, 2022, and 2023.\n",
            "Clift, Connor: 0.254\t\t\t. Hit 104 balls in play during preseason, 2022, and 2023.\n",
            "DiPaolo, Luca: 0.289\t\t\t. Hit 48 balls in play during preseason, 2022, and 2023.\n",
            "Aoki, Connor: 0.313\t\t\t. Hit 92 balls in play during preseason, 2022, and 2023.\n",
            "Clow, Nate: 0.263\t\t\t. Hit 50 balls in play during preseason, 2022, and 2023.\n",
            "Galloway, Jacob: 0.342\t\t\t. Hit 52 balls in play during preseason, 2022, and 2023.\n",
            "Olmstead, Johnny: 0.243\t\t\t. Hit 170 balls in play during preseason, 2022, and 2023.\n",
            "Wells, Carson: 0.271\t\t\t. Hit 113 balls in play during preseason, 2022, and 2023.\n",
            "Gabrielson, Cole: 0.253\t\t\t. Hit 139 balls in play during preseason, 2022, and 2023.\n",
            "Harrison, Kaikea: 0.255\t\t\t. Hit 47 balls in play during preseason, 2022, and 2023.\n",
            "Martin-Grudzielanek, Bryce: 0.292\t\t\t. Hit 160 balls in play during preseason, 2022, and 2023.\n",
            "Lopez, Nick: 0.329\t\t\t. Hit 267 balls in play during preseason, 2022, and 2023.\n",
            "Huber, Caiden: 0.205\t\t\t. Hit 56 balls in play during preseason, 2022, and 2023.\n",
            "Hedges, Ethan: 0.317\t\t\t. Hit 121 balls in play during preseason, 2022, and 2023.\n",
            "Brandon, Caleb: 0.198\t\t\t. Hit 13 balls in play during preseason, 2022, and 2023.\n"
          ]
        }
      ]
    },
    {
      "cell_type": "code",
      "source": [
        "print(\"Expected On-Base Percentage (xOBP) from Preseason + 2022 Season + 2023 Season:\\n\")\n",
        "\n",
        "# prints each player's name & their xBABIP\n",
        "for i in range(len(unique_name_list)):\n",
        "  print(unique_name_list[i] + \": \" + str(round(xOBP_list[i], 3)) + \"\\t\\t\\t. Hit \" + str(num_BIP[i]) + \" balls in play during preseason, 2022, and 2023.\")"
      ],
      "metadata": {
        "colab": {
          "base_uri": "https://localhost:8080/"
        },
        "id": "jZRN3aT7eUu-",
        "outputId": "aacbd728-8a14-459b-c610-de2454ea4bbd"
      },
      "execution_count": null,
      "outputs": [
        {
          "output_type": "stream",
          "name": "stdout",
          "text": [
            "Expected On-Base Percentage (xOBP) from Preseason + 2022 Season + 2023 Season:\n",
            "\n",
            "Colon-Rosado, Adrian: 0.346\t\t\t. Hit 171 balls in play during preseason, 2022, and 2023.\n",
            "Jackson, Ryan: 0.424\t\t\t. Hit 211 balls in play during preseason, 2022, and 2023.\n",
            "Overn, Austin: 0.336\t\t\t. Hit 194 balls in play during preseason, 2022, and 2023.\n",
            "Clift, Connor: 0.322\t\t\t. Hit 104 balls in play during preseason, 2022, and 2023.\n",
            "DiPaolo, Luca: 0.363\t\t\t. Hit 48 balls in play during preseason, 2022, and 2023.\n",
            "Aoki, Connor: 0.395\t\t\t. Hit 92 balls in play during preseason, 2022, and 2023.\n",
            "Clow, Nate: 0.329\t\t\t. Hit 50 balls in play during preseason, 2022, and 2023.\n",
            "Galloway, Jacob: 0.406\t\t\t. Hit 52 balls in play during preseason, 2022, and 2023.\n",
            "Olmstead, Johnny: 0.311\t\t\t. Hit 170 balls in play during preseason, 2022, and 2023.\n",
            "Wells, Carson: 0.386\t\t\t. Hit 113 balls in play during preseason, 2022, and 2023.\n",
            "Gabrielson, Cole: 0.329\t\t\t. Hit 139 balls in play during preseason, 2022, and 2023.\n",
            "Harrison, Kaikea: 0.323\t\t\t. Hit 47 balls in play during preseason, 2022, and 2023.\n",
            "Martin-Grudzielanek, Bryce: 0.349\t\t\t. Hit 160 balls in play during preseason, 2022, and 2023.\n",
            "Lopez, Nick: 0.369\t\t\t. Hit 267 balls in play during preseason, 2022, and 2023.\n",
            "Huber, Caiden: 0.347\t\t\t. Hit 56 balls in play during preseason, 2022, and 2023.\n",
            "Hedges, Ethan: 0.377\t\t\t. Hit 121 balls in play during preseason, 2022, and 2023.\n",
            "Brandon, Caleb: 0.239\t\t\t. Hit 13 balls in play during preseason, 2022, and 2023.\n"
          ]
        }
      ]
    },
    {
      "cell_type": "markdown",
      "source": [
        "Finding League Runs & League wOBA to Calculate wRC"
      ],
      "metadata": {
        "id": "2PFcahMANdZT"
      }
    },
    {
      "cell_type": "code",
      "source": [
        "# Converts pandas.core.series.Series into a list of floats for Runs Scored\n",
        "Runs_list = []\n",
        "for series in df['RunsScored']:\n",
        "  row_list = series\n",
        "  Runs_list.append(row_list)"
      ],
      "metadata": {
        "id": "gwJaP_V_UhDk"
      },
      "execution_count": null,
      "outputs": []
    },
    {
      "cell_type": "code",
      "source": [
        "leagueRuns = 0\n",
        "leaguewOBA = 0.0\n",
        "leagueSingles = 0.0\n",
        "leagueDoubles = 0.0\n",
        "leagueTriples = 0.0\n",
        "leagueHRs = 0.0\n",
        "leagueBBs = 0.0\n",
        "leagueKs = 0.0\n",
        "leagueHBPs = 0.0\n",
        "leagueBIP = 0.0\n",
        "leaguePAs = 0.0\n",
        "leagueABs = 0.0\n",
        "leagueHits = 0.0\n",
        "\n",
        "\n",
        "# calculate # singles, doubles, triples, HRs, BIP\n",
        "for i in range(len(fullprobabilities)):\n",
        "    leagueBIP += 1\n",
        "    leagueHits += fullprobabilities[i][1] # probabilities contains 2 different numbers that are sum to 1\n",
        "    leagueSingles += (.9368*(SinglesProbability[i][1])) # probabilities contains 2 different numbers that are sum to 1\n",
        "    leagueDoubles += (.835*((DoublesProbability[i][1])))/4 # probabilities contains 2 different numbers that are sum to 1\n",
        "    leagueTriples += (.8667*((TriplesProbability[i][1])))/9 # probabilities contains 2 different numbers that are sum to 1\n",
        "    leagueHRs += (.92857*((HRsProbability[i][1])))/16 # probabilities contains 2 different numbers that are sum to 1\n",
        "\n",
        "# calculates # Ks, BBs, HBPs\n",
        "for i in range(len(KorBB_list)):\n",
        "  if(KorBB_list[i] == \"Strikeout\"):\n",
        "    leagueKs += 1\n",
        "  if(KorBB_list[i] == \"Walk\"):\n",
        "    leagueBBs += 1\n",
        "  if(HBP_list[i] == \"HitByPitch\"):\n",
        "    leagueHBPs += 1\n",
        "\n",
        "# calculates # runs\n",
        "for i in range(len(Runs_list)):\n",
        "  if(Runs_list[i] == 1.0):\n",
        "    leagueRuns += Runs_list[i]"
      ],
      "metadata": {
        "id": "eJXi28NpNlsV"
      },
      "execution_count": null,
      "outputs": []
    },
    {
      "cell_type": "code",
      "source": [
        "print(leagueRuns)"
      ],
      "metadata": {
        "id": "w33dYpdi5NGo",
        "colab": {
          "base_uri": "https://localhost:8080/"
        },
        "outputId": "b63f3af4-8fec-4a22-e2d2-f3d6f2c8984b"
      },
      "execution_count": null,
      "outputs": [
        {
          "output_type": "stream",
          "name": "stdout",
          "text": [
            "35066.0\n"
          ]
        }
      ]
    },
    {
      "cell_type": "code",
      "source": [
        "leaguewOBA = ( (0.690*(.552*leagueBBs) + 0.722*(.552*leagueHBPs) + (0.888*leagueSingles) + (1.271*leagueDoubles) + (1.616*leagueTriples) + (2.101*leagueHRs) ) / ( .94*leagueBIP + .552*leagueKs + .552*leagueBBs + .552*leagueHBPs ))\n"
      ],
      "metadata": {
        "id": "rI5OQZ-CbwTF"
      },
      "execution_count": null,
      "outputs": []
    },
    {
      "cell_type": "code",
      "source": [
        "print(leaguewOBA)"
      ],
      "metadata": {
        "colab": {
          "base_uri": "https://localhost:8080/"
        },
        "id": "e4ZMyocUcso3",
        "outputId": "4226c6eb-a440-4e54-d6c5-02d8f99e2415"
      },
      "execution_count": null,
      "outputs": [
        {
          "output_type": "stream",
          "name": "stdout",
          "text": [
            "0.34493337955549896\n"
          ]
        }
      ]
    },
    {
      "cell_type": "markdown",
      "source": [
        "Finding the whole team projected stats for any metric"
      ],
      "metadata": {
        "id": "2GUzk6RN5Iwg"
      }
    },
    {
      "cell_type": "code",
      "source": [
        "print(num_PA)\n",
        "print(leagueRuns)"
      ],
      "metadata": {
        "colab": {
          "base_uri": "https://localhost:8080/"
        },
        "id": "5V6Dhdxee_TJ",
        "outputId": "b798b2a1-f571-45df-82e3-da1807b4d0eb"
      },
      "execution_count": null,
      "outputs": [
        {
          "output_type": "stream",
          "name": "stdout",
          "text": [
            "[200.48399999999998, 252.98799999999997, 221.552, 127.568, 63.33599999999999, 125.11999999999999, 61.903999999999996, 56.608, 189.60799999999998, 157.004, 194.69199999999998, 60.739999999999995, 185.17600000000002, 286.86, 89.62400000000001, 144.1, 21.604]\n",
            "35066.0\n"
          ]
        }
      ]
    },
    {
      "cell_type": "code",
      "source": [
        "print(\"wRC\\n\")\n",
        "sumRuns = 0.0\n",
        "wRC_list = []\n",
        "for x in range(len(spreadsheet_names)):\n",
        "  for y in range(len(unique_name_list)):\n",
        "    if(unique_name_list[y] == spreadsheet_names[x]):\n",
        "      i = y\n",
        "#wRC = (((wOBA-League wOBA)/wOBA Scale)+(League R/PA))*PA\n",
        "# wOBA scale: 1.259\n",
        "      sumRuns += ((((xwOBA_list[i])-leaguewOBA )/1.259) + (1*leagueRuns/ (.552*leagueBBs + .552*leagueHBPs + .552*leagueKs + .94*leagueBIP) )) * num_PA[i]\n",
        "      wRC_list.append(((((xwOBA_list[i])-leaguewOBA )/1.259) + (1*leagueRuns/ (.552*leagueBBs + .552*leagueHBPs + .552*leagueKs + .94*leagueBIP) )) * num_PA[i])\n",
        "      #print(spreadsheet_names[x] + \": \" + str( ((((xwOBA_list[i])-leaguewOBA )/1.259) + (1*leagueRuns/ (.552*leagueBBs + .552*leagueHBPs + .552*leagueKs + .94*leagueBIP) )) * num_PA[i]))\n",
        "      #print(str( ((((xwOBA_list[i])-leaguewOBA )/1.259) + (1*leagueRuns/ (.552*leagueBBs + .552*leagueHBPs + .552*leagueKs + .94*leagueBIP) )) * num_PA[i]))"
      ],
      "metadata": {
        "colab": {
          "base_uri": "https://localhost:8080/"
        },
        "id": "9LEtZ_O7fKLx",
        "outputId": "027166d3-8830-4765-c2ed-a9324791ab7f"
      },
      "execution_count": null,
      "outputs": [
        {
          "output_type": "stream",
          "name": "stdout",
          "text": [
            "wRC\n",
            "\n"
          ]
        }
      ]
    },
    {
      "cell_type": "code",
      "source": [
        "# calculates wRC/PA\n",
        "\n",
        "wRCperPA_list = []\n",
        "for x in range(len(spreadsheet_names)):\n",
        "  for y in range(len(unique_name_list)):\n",
        "    if(unique_name_list[y] == spreadsheet_names[x]):\n",
        "      i = y\n",
        "      wRCperPA_list.append(((((xwOBA_list[i])-leaguewOBA )/1.259) + (1*leagueRuns/ (.552*leagueBBs + .552*leagueHBPs + .552*leagueKs + .94*leagueBIP) )))\n",
        "      print(spreadsheet_names[x])\n"
      ],
      "metadata": {
        "colab": {
          "base_uri": "https://localhost:8080/"
        },
        "id": "YnpkHe0pkcFU",
        "outputId": "b8ef54e7-29da-4d50-c8a7-e6031fd756ad"
      },
      "execution_count": null,
      "outputs": [
        {
          "output_type": "stream",
          "name": "stdout",
          "text": [
            "Overn, Austin\n",
            "Hedges, Ethan\n",
            "Lopez, Nick\n",
            "Gabrielson, Cole\n",
            "Jackson, Ryan\n",
            "Wells, Carson\n",
            "Olmstead, Johnny\n",
            "Martin-Grudzielanek, Bryce\n",
            "DiPaolo, Luca\n",
            "Clift, Connor\n",
            "Galloway, Jacob\n",
            "Colon-Rosado, Adrian\n",
            "Aoki, Connor\n",
            "Huber, Caiden\n",
            "Clow, Nate\n",
            "Harrison, Kaikea\n"
          ]
        }
      ]
    },
    {
      "cell_type": "code",
      "source": [
        "for i in range(len(spreadsheet_names)):\n",
        "  print(str(wRCperPA_list[i]))"
      ],
      "metadata": {
        "colab": {
          "base_uri": "https://localhost:8080/"
        },
        "id": "T6a_mt-glMd3",
        "outputId": "a18dc1cf-e81e-42be-884b-62f7bdca3043"
      },
      "execution_count": null,
      "outputs": [
        {
          "output_type": "stream",
          "name": "stdout",
          "text": [
            "0.1155599533382443\n",
            "0.15848836013813025\n",
            "0.16542357296945667\n",
            "0.08059147243929901\n",
            "0.1722327668326097\n",
            "0.10491820298663743\n",
            "0.10130615852968204\n",
            "0.12483922588703308\n",
            "0.13554386006659877\n",
            "0.1197070786109198\n",
            "0.24768572316218107\n",
            "0.13116091917200323\n",
            "0.14029354410596612\n",
            "0.08880089692651527\n",
            "0.09905314957100786\n",
            "0.1426668464696967\n"
          ]
        }
      ]
    },
    {
      "cell_type": "code",
      "source": [
        "print(\"RC\\n\")\n",
        "for x in range(len(spreadsheet_names)):\n",
        "  for y in range(len(unique_name_list)):\n",
        "    if(unique_name_list[y] == spreadsheet_names[x]):\n",
        "      i = y\n",
        "\n",
        "      print(str(xRC_list[i]))"
      ],
      "metadata": {
        "colab": {
          "base_uri": "https://localhost:8080/"
        },
        "id": "xT7pxXCUcVhY",
        "outputId": "e5b0b73b-4dae-4045-dc63-c62254b9e42b"
      },
      "execution_count": null,
      "outputs": [
        {
          "output_type": "stream",
          "name": "stdout",
          "text": [
            "RC\n",
            "\n",
            "32.17591816703835\n",
            "28.453144199812424\n",
            "59.34292357644789\n",
            "24.963643732105584\n",
            "53.798357991333255\n",
            "22.12840290221953\n",
            "24.809436371526065\n",
            "29.766513187042005\n",
            "10.437972292877348\n",
            "19.009929630415428\n",
            "16.369256215231747\n",
            "30.709066365811065\n",
            "22.1037068886805\n",
            "9.956171156700872\n",
            "8.234081316768606\n",
            "9.82398076517548\n"
          ]
        }
      ]
    },
    {
      "cell_type": "markdown",
      "source": [
        "Given any USC player, provides their predicted Batting Average, BABIP, OBP"
      ],
      "metadata": {
        "id": "qeGiE8xwg6HH"
      }
    },
    {
      "cell_type": "code",
      "source": [
        "desired_player = \"Martin-Grudzielanek, Bryce\"\n",
        "\n",
        "# find the spot of the desired player\n",
        "for x in range(len(unique_name_list)):\n",
        "  if(unique_name_list[x] == desired_player):\n",
        "    i = x\n",
        "\n",
        "\n",
        "print(\"Predicted sabermetrics for \" + desired_player + \":\\n\")\n",
        "print(\"xBA: \" + str(round(xBA_list[i], 3)))\n",
        "print(\"xOBP: \" + str(round(xOBP_list[i], 3)))\n",
        "print(\"xSLG: \" + str(round(xSLG_list[3], 3)))\n",
        "print(\"xOPS: \" + str(round(xOPS_list[i], 3)))\n",
        "print(\"xBABIP: \" + str(round(xBABIP_list[i], 3)))\n",
        "print(\"xISO: \" + str(round(xISO_list[i], 3)))\n",
        "print(\"xwOBA: \" + str(round(xwOBA_list[i], 3)))\n",
        "print(\"PA/K: \" + str(round(num_PA[i] / num_K[i], 3)))\n",
        "print(\"PA/BB: \" + str(round(num_PA[i] / num_BB[i], 3)))\n",
        "print(\"K Rate: \" + str(round(100*(num_K[i] / (num_K[i] + num_BIP[i] + num_BB[i] + num_HBP[i])), 2)) + \"%\")\n",
        "print(\"BB Rate: \" + str(round(100*(num_BB[i] / (num_K[i] + num_BIP[i] + num_BB[i] + num_HBP[i])), 2)) + \"%\")\n"
      ],
      "metadata": {
        "id": "IcwesD4CvwAv",
        "colab": {
          "base_uri": "https://localhost:8080/"
        },
        "outputId": "e5a14c34-cf20-41ec-deb4-6b9c4be54cc9"
      },
      "execution_count": null,
      "outputs": [
        {
          "output_type": "stream",
          "name": "stdout",
          "text": [
            "Predicted sabermetrics for Martin-Grudzielanek, Bryce:\n",
            "\n",
            "xBA: 0.292\n",
            "xOBP: 0.349\n",
            "xSLG: 0.465\n",
            "xOPS: 0.812\n",
            "xBABIP: 0.331\n",
            "xISO: 0.171\n",
            "xwOBA: 0.356\n",
            "PA/K: 5.144\n",
            "PA/BB: 8.818\n",
            "K Rate: 16.14%\n",
            "BB Rate: 9.42%\n"
          ]
        }
      ]
    },
    {
      "cell_type": "code",
      "source": [],
      "metadata": {
        "id": "dNp8SwBiNaMc"
      },
      "execution_count": null,
      "outputs": []
    },
    {
      "cell_type": "code",
      "source": [],
      "metadata": {
        "id": "QizTo7PNqL10"
      },
      "execution_count": null,
      "outputs": []
    },
    {
      "cell_type": "markdown",
      "source": [
        "Use to find xBABIP of any given player in 2022"
      ],
      "metadata": {
        "id": "K1BQxK0katBc"
      }
    },
    {
      "cell_type": "code",
      "source": [
        "# initialize counter to see how many times a player appears; will be used to find average later\n",
        "counter = 0\n",
        "\n",
        "# initalize float to sum the probabilities of a player's BIP\n",
        "probSum = 0.0\n",
        "\n",
        "desired_player = \"Overn, Austin\"\n",
        "# counts number of times a given player put ball in play & the probability of hit\n",
        "for i in range(len(last_list)):\n",
        "  if(last_list[i] == desired_player):\n",
        "    counter = counter + 1\n",
        "    probSum += fullprobabilities[i][1] # probabilities contains 2 different numbers that are sum to 1\n",
        "# calculates the predicted BABIP by dividing prob of hit by total counter\n",
        "predictedBABIP = (.78*probSum)/(.94*counter)\n",
        "\n",
        "print(predictedBABIP)\n",
        "print(counter)"
      ],
      "metadata": {
        "id": "LMDFqIxnUcQG"
      },
      "execution_count": null,
      "outputs": []
    },
    {
      "cell_type": "code",
      "source": [],
      "metadata": {
        "id": "UNufOJuuwN2A"
      },
      "execution_count": null,
      "outputs": []
    },
    {
      "cell_type": "markdown",
      "source": [
        "***Applying Singles, Doubles, Triples, and Home Runs Model***"
      ],
      "metadata": {
        "id": "gfFdHBcKmwfo"
      }
    },
    {
      "cell_type": "code",
      "source": [
        "# Variables & Lists to be used:\n",
        "\n",
        "# Total Bases/Slugging Variables & Lists:\n",
        "totalBases = 0 # sums number of total bases\n",
        "pretotalBases_list = [] # holds number of total bases for preseason data set\n",
        "totalBases_list = [] # holds number of total bases for full game data set\n",
        "xSLG = 0 # to be used when calculating expected slugging\n",
        "xwOBA = 0 # to be used when calculating expected wOBA\n",
        "xRC = 0 # to be used when calculating expected Runs Created\n",
        "xSLG_list = [] # holds expected Slugging\n",
        "xwOBA_list = [] # holds expected wOBA\n",
        "xRC_list = [] # holds expected RC\n",
        "\n",
        "# Single Variables & Lists: multiply at end by .9368\n",
        "prenum_singles = 0 # count number of singles in preseason data set\n",
        "num_singles = 0 # counts total number of singles in full game data set\n",
        "pre_singles_list = [] # list to hold number of singles in pregame data set\n",
        "singles_list = []\n",
        "\n",
        "\n",
        "# Double Variables # Lists: multiply at end by .835\n",
        "prenum_doubles = 0 # count number of doubles in preseason data set\n",
        "num_doubles = 0 # counts total number of doubles in full game data set\n",
        "\n",
        "\n",
        "# Triple Variables & Lists: multiply at end by .8667\n",
        "prenum_triples = 0 # count number of triples in preseason data set\n",
        "num_triples = 0 # counts total number of triples in full game data set\n",
        "\n",
        "\n",
        "# Home Run Variables & Lists: multiply at end by .92857\n",
        "prenum_HR = 0 # count number of HR in preseason data set\n",
        "num_HR = 0 # counts total number of HR in full game data set\n"
      ],
      "metadata": {
        "id": "Ho04nm1V1Ei7"
      },
      "execution_count": null,
      "outputs": []
    },
    {
      "cell_type": "code",
      "execution_count": null,
      "metadata": {
        "id": "DZ0K1EWb2-L5"
      },
      "outputs": [],
      "source": []
    },
    {
      "cell_type": "code",
      "execution_count": null,
      "metadata": {
        "id": "WJnTNajV298a"
      },
      "outputs": [],
      "source": []
    },
    {
      "cell_type": "code",
      "execution_count": null,
      "metadata": {
        "id": "NVvb-HspB6hA"
      },
      "outputs": [],
      "source": []
    },
    {
      "cell_type": "code",
      "source": [],
      "metadata": {
        "id": "U01vOBg2uCph"
      },
      "execution_count": null,
      "outputs": []
    },
    {
      "cell_type": "code",
      "source": [],
      "metadata": {
        "id": "GjzbfCsmuCnI"
      },
      "execution_count": null,
      "outputs": []
    },
    {
      "cell_type": "code",
      "source": [],
      "metadata": {
        "id": "02KnhEUGuCkk"
      },
      "execution_count": null,
      "outputs": []
    },
    {
      "cell_type": "code",
      "source": [],
      "metadata": {
        "id": "DPdKbOZ_uCiA"
      },
      "execution_count": null,
      "outputs": []
    },
    {
      "cell_type": "code",
      "source": [],
      "metadata": {
        "id": "bK9lfLCjuCfn"
      },
      "execution_count": null,
      "outputs": []
    },
    {
      "cell_type": "code",
      "source": [],
      "metadata": {
        "id": "zXPwsOGZuCc4"
      },
      "execution_count": null,
      "outputs": []
    },
    {
      "cell_type": "code",
      "source": [],
      "metadata": {
        "id": "PTJrupr6uCac"
      },
      "execution_count": null,
      "outputs": []
    },
    {
      "cell_type": "code",
      "source": [],
      "metadata": {
        "id": "JWknCIW4uCX0"
      },
      "execution_count": null,
      "outputs": []
    },
    {
      "cell_type": "code",
      "source": [],
      "metadata": {
        "id": "-X3kjcY7uCVV"
      },
      "execution_count": null,
      "outputs": []
    },
    {
      "cell_type": "code",
      "source": [],
      "metadata": {
        "id": "7qgkm_OFuCSy"
      },
      "execution_count": null,
      "outputs": []
    },
    {
      "cell_type": "code",
      "source": [],
      "metadata": {
        "id": "wz11giJmuCNg"
      },
      "execution_count": null,
      "outputs": []
    },
    {
      "cell_type": "code",
      "source": [],
      "metadata": {
        "id": "-O85tQHRuCK0"
      },
      "execution_count": null,
      "outputs": []
    },
    {
      "cell_type": "code",
      "source": [],
      "metadata": {
        "id": "YL7G_CzduCFX"
      },
      "execution_count": null,
      "outputs": []
    },
    {
      "cell_type": "code",
      "execution_count": null,
      "metadata": {
        "id": "OEcviaaeB6mf"
      },
      "outputs": [],
      "source": []
    },
    {
      "cell_type": "code",
      "source": [],
      "metadata": {
        "id": "xGLfVLxYdaP_"
      },
      "execution_count": null,
      "outputs": []
    }
  ],
  "metadata": {
    "colab": {
      "provenance": []
    },
    "kernelspec": {
      "display_name": "Python 3",
      "name": "python3"
    },
    "language_info": {
      "name": "python"
    }
  },
  "nbformat": 4,
  "nbformat_minor": 0
}